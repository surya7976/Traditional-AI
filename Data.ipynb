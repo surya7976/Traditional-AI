{
  "nbformat": 4,
  "nbformat_minor": 0,
  "metadata": {
    "colab": {
      "provenance": []
    },
    "kernelspec": {
      "name": "python3",
      "display_name": "Python 3"
    },
    "language_info": {
      "name": "python"
    }
  },
  "cells": [
    {
      "cell_type": "markdown",
      "source": [
        "https://gist.githubusercontent.com/pravalliyaram/5c05f43d2351249927b8a3f3cc3e5ecf/raw/8bd6144a87988213693754baaa13fb204933282d/Mall_Customers.csv\n",
        "\n"
      ],
      "metadata": {
        "id": "It6NjukE7JQL"
      }
    },
    {
      "cell_type": "markdown",
      "source": [
        "https://raw.githubusercontent.com/riyabansal98/Mushroom-Classification/refs/heads/master/mushrooms.csv"
      ],
      "metadata": {
        "id": "0vhfzsFN7Pjb"
      }
    },
    {
      "cell_type": "markdown",
      "source": [
        "https://raw.githubusercontent.com/aniruddhachoudhury/Red-Wine-Quality/refs/heads/master/winequality-red.csv"
      ],
      "metadata": {
        "id": "EnRcIPrzPiRK"
      }
    }
  ]
}