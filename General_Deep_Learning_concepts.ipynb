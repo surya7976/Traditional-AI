{
  "nbformat": 4,
  "nbformat_minor": 0,
  "metadata": {
    "colab": {
      "provenance": []
    },
    "kernelspec": {
      "name": "python3",
      "display_name": "Python 3"
    }
  },
  "cells": [
    {
      "cell_type": "markdown",
      "metadata": {
        "id": "MOpEkBAOUKNJ"
      },
      "source": [
        "**Tensorflow 1 vs Tensorflow 2** - Understand what changed\n",
        "* One of the most important changes is that keras which was earlier being used by Tensorflow and others like Theano is now a part of Tensorflow.\n",
        "* So the syntax in using Keras changes to Tensorflow.keras....\n",
        "\n",
        "https://www.pyimagesearch.com/2019/10/21/keras-vs-tf-keras-whats-the-difference-in-tensorflow-2-0/\n",
        "\n",
        "**Migrate Tensoflow 1 to 2**\n",
        "\n",
        "https://www.tensorflow.org/guide/migrate\n",
        "\n",
        "**3 ways of creating Keras models**\n",
        "\n",
        "https://towardsdatascience.com/3-ways-to-build-neural-networks-in-tensorflow-with-the-keras-api-80e92d3b5b7e"
      ]
    },
    {
      "cell_type": "markdown",
      "metadata": {
        "id": "6R5uHkYe72mU"
      },
      "source": [
        "###Multi-Layer Perceptrons"
      ]
    },
    {
      "cell_type": "markdown",
      "metadata": {
        "id": "yeo2DC4mTL3h"
      },
      "source": [
        "\n",
        "* Nice visualization of MLPs\n",
        "https://www.youtube.com/watch?v=3JQ3hYko51Y\n",
        "\n",
        "* Another one https://www.youtube.com/watch?v=Aut32pR5PQA\n",
        "\n",
        "-----------"
      ]
    },
    {
      "cell_type": "markdown",
      "metadata": {
        "id": "hawPfBnJ8hxS"
      },
      "source": [
        "* The field of artificial neural networks is often just called Neural Networks or Multilayer Perceptrons.  \n",
        "\n",
        "* A **Perceptron** is a single neuron model.\n",
        "\n",
        "**Shallow vs Deep Networks** - Neural netwroks with more than one hidden layer are Deep networks.\n",
        "\n",
        "* Adding more layers allows for more easy representation of the interactions within the input data, as well as allows for more abstract features to be learned and used as input into the next hidden layer.\n",
        "\n",
        "* The predictive capability of neural networks comes from the hierarchical or multilayered structure of the networks. The data structure can learn  features at different scales and combine them into higher-order features.\n",
        "\n",
        "* **Neuron** - The building block for neural networks are artificial neurons. These are simple computational units that have weighted input signals and produce an output signal using an activation function.\n",
        "\n",
        "* **Neuron Weights** - They are similar to weights in Linear regression. A neuron may have two inputs in which case it requires three weights. One for each input and one for the bias.  Weights are often initialized to small random values, such as values in the range 0 to 0.3. Larger weights indicate increased complexity and fragility of the model.\n",
        "\n",
        "-----------"
      ]
    },
    {
      "cell_type": "markdown",
      "metadata": {
        "id": "e2rcS-bUYZjj"
      },
      "source": [
        "**Input or Visible layers**\n",
        "* The bottom layer that takes input from your dataset is called the visible layer, because it is the exposed part of the network. Often a neural network is drawn with a visible layer with one neuron per input value or column in your dataset.\n",
        "\n",
        "**Hidden Layers**\n",
        "* Layers after the input layer are called hidden layers because they are not directly exposed to the input.\n",
        "\n",
        "**Output Layer**\n",
        "* The final hidden layer is called the output layer and it is responsible for outputting a value or vector of values that correspond to the format required for the problem. The choice of activation function in the output layer is strongly constrained by the type of problem that you are modeling.\n",
        "\n"
      ]
    },
    {
      "cell_type": "markdown",
      "metadata": {
        "id": "pskot4liCtWs"
      },
      "source": [
        "\n",
        "\n",
        "---\n",
        "\n"
      ]
    },
    {
      "cell_type": "markdown",
      "metadata": {
        "id": "vZoagwjNDhEI"
      },
      "source": [
        "**Activation functions :**\n",
        "\n",
        "* **A neural network without an activation function is essentially just a linear regression model.**\n",
        "\n",
        "* An activation function is a function that is added into an artificial neural network in order to help the network learn complex patterns in the data. It takes in the output signal from the previous cell and converts it into some form that can be taken as input to the next cell.\n",
        "\n",
        "* An activation function is a simple mapping of summed weighted input to the output of the neuron.\n",
        "\n",
        "* Traditionally nonlinear activation functions are used. This allows the network to combine the inputs in more complex ways and in turn provide a richer capability in the functions they can model.\n",
        "\n",
        "* They also help in keeping the value of the output from the neuron restricted to a certain limit as per our requirement.\n",
        "\n",
        "* Activation functions are applied at every layer and need to be calculated many times in deep networks. Hence, they should be computationally inexpensive to calculate.\n"
      ]
    },
    {
      "cell_type": "markdown",
      "metadata": {
        "id": "PcT8IgqGJptC"
      },
      "source": [
        "\n",
        "\n",
        "---\n",
        "\n"
      ]
    },
    {
      "cell_type": "markdown",
      "metadata": {
        "id": "5isgngZIJQBC"
      },
      "source": [
        "* Logistic function also called the **sigmoid** function is used to output a value between 0 and 1. Useful for binary classification.\n",
        "\n",
        "* The **softmax** is a more generalised form of the sigmoid. It is used in multi-class classification problems. Similar to sigmoid, it produces values in the range of 0–1 therefore it is used as the final layer in classification models. Useful for multiclass-classification.\n",
        "\n",
        "* The hyperbolic tangent function also called **Tanh** outputs the same distribution over the range -1 to +1.  The tanh function is very similar to the sigmoid function. The only difference is that it is symmetric around the origin.  \n",
        "\n",
        "* It is usually used in hidden layers of a neural network as it’s values lies between -1 to 1 hence the mean for the hidden layer comes out be 0 or very close to it, hence helps in centering the data by bringing mean close to 0. This makes learning for the next layer much easier.\n",
        "\n",
        "* The rectifier activation function **ReLU** (Rectified Linear Unit) outputs 0 fro -ve values and the actual value for +ve values\n",
        "\n",
        "* The main advantage of using the ReLU function over other activation functions is that it does not activate all the neurons at the same time.  Since only a certain number of neurons are activated, the ReLU function is far more computationally efficient.\n",
        "\n",
        "* **Leaky ReLU** function is nothing but an improved version of the ReLU function. As we saw that for the ReLU function, the gradient is 0 for x<0, which would deactivate the neurons in that region.\n",
        "\n",
        "* Leaky ReLU is defined to address this problem. Instead of defining the Relu function as 0 for negative values of x, we define it as an extremely small linear component of x."
      ]
    },
    {
      "cell_type": "markdown",
      "metadata": {
        "id": "yJgdcCQGCwwr"
      },
      "source": [
        "\n",
        "\n",
        "---\n",
        "\n"
      ]
    },
    {
      "cell_type": "markdown",
      "metadata": {
        "id": "hXfkPJNZDTrQ"
      },
      "source": [
        "**When to use which Activation funtion?**\n",
        "\n",
        "* Sigmoid functions and their combinations generally work better in the case of classifiers\n",
        "\n",
        "* ReLU function is a general activation function and is used in most cases these days\n",
        "\n",
        "* If we encounter a case of dead neurons in our networks the leaky ReLU function is the best choice\n",
        "\n",
        "* Always keep in mind that ReLU function should only be used in the hidden layers\n",
        "\n",
        "* As a rule of thumb, you can begin with using ReLU function and then move over to other activation functions in case ReLU doesn’t provide with optimum results\n",
        "\n",
        "* No activation function is used for the output layer if it is a regression problem as we are interested in predicting numerical values directly without transform."
      ]
    },
    {
      "cell_type": "markdown",
      "metadata": {
        "id": "2t0Hl0A0eOCm"
      },
      "source": [
        "**Epochs**\n",
        "\n",
        "* An epoch is one learning cycle where the learner sees the whole training data set. If you have two batches, the learner needs to go through two iterations for one epoch\n",
        "\n",
        "* The number of epochs needs to be finetuned based on the validation and training error. As long as they keep dropping training should continue.\n",
        "\n",
        "* For instance, if the validation error starts increasing that might be a indication of overfitting. You should set the number of epochs as high as possible and terminate training based on the error rates."
      ]
    },
    {
      "cell_type": "markdown",
      "metadata": {
        "id": "bzjqB6TbrfTk"
      },
      "source": [
        "**Backpropagation**\n",
        "\n",
        "* Backpropagation is the central mechanism by which neural networks learn. It is probably the most fundamental building block in a neural network.\n",
        "\n",
        "* The algorithm is used to effectively train a neural network through a method called chain rule. In simple terms, after each forward pass through a network, backpropagation performs a backward pass while adjusting the model’s parameters (weights and biases).\n",
        "\n",
        "* The final step in a forward pass is to evaluate the predicted output against an expected output. It happens through a **cost / loss function**. This can be as simple as MSE (mean squared error) or more complex like cross-entropy.\n",
        "\n",
        "* In other words, backpropagation aims to minimize the cost function by adjusting network’s weights and biases. The level of adjustment is determined by the gradients of the cost function with respect to those parameters.\n",
        "\n",
        "* It uses the Gradient descent algorithm."
      ]
    },
    {
      "cell_type": "markdown",
      "metadata": {
        "id": "SGzPMoMcreGJ"
      },
      "source": [
        "\n",
        "---\n"
      ]
    },
    {
      "cell_type": "markdown",
      "metadata": {
        "id": "WdSPRTjB4Wq0"
      },
      "source": [
        "**Cost / Loss Functions**\n",
        "\n",
        "* Loss functions are helpful to train a neural network. Given an input and a target, they calculate the loss, i.e difference between output and target variable.\n",
        "\n",
        "* A loss function is for a single training example. It is also sometimes called an error function. A cost function, on the other hand, is the average loss over the entire training dataset. The optimization strategies aim at minimizing the cost function.\n",
        "\n",
        "* **Optimizers** are algorithms or methods used to change the attributes of your neural network such as weights and learning rate in order to reduce the losses - Explained in-depth later\n",
        "\n",
        "**Different Loss functions**\n",
        "\n",
        "* For Regression - **MSE** (Mean Square Error)\n",
        "\n",
        "* Mean squared error is calculated as the average of the squared differences between the predicted and actual values. The result is always positive. The squaring means that larger mistakes result in more error than smaller mistakes, meaning that the model is punished for making larger mistakes.\n",
        "\n",
        "* For Classification - **Cross-entropy** will calculate a score that summarizes the average difference between the actual and predicted probability distributions\n",
        "\n",
        "    * Binary Cross-Entropy\n",
        "    * Sparse Categorical Cross-Entropy\n",
        "\n",
        "* Know more at https://www.analyticsvidhya.com/blog/2019/08/detailed-guide-7-loss-functions-machine-learning-python-code/\n"
      ]
    },
    {
      "cell_type": "markdown",
      "metadata": {
        "id": "RcJfjO8qTNtP"
      },
      "source": [
        "**Binary Classification with MLP**"
      ]
    },
    {
      "cell_type": "code",
      "metadata": {
        "id": "2_prS8AdZmtG",
        "outputId": "3df35cee-e67f-4ae1-a4de-f5d46f478ba5",
        "colab": {
          "base_uri": "https://localhost:8080/",
          "height": 312
        }
      },
      "source": [
        "# https://www.kaggle.com/uciml/pima-indians-diabetes-database\n",
        "\n",
        "import pandas as pd\n",
        "import numpy\n",
        "from tensorflow.keras.models import Sequential\n",
        "from tensorflow.keras.layers import Dense\n",
        "from sklearn.model_selection import train_test_split\n",
        "from sklearn.preprocessing import StandardScaler\n",
        "\n",
        "dataset = pd.read_csv('diabetes.csv')\n",
        "\n",
        "y = dataset['Outcome']\n",
        "X = dataset.drop(['Outcome'], axis = 1)\n",
        "\n",
        "X_train,X_test,y_train,y_test=train_test_split(X,y,test_size=0.25)\n",
        "\n",
        "scaler = StandardScaler()\n",
        "scaler.fit(X_train)\n",
        "\n",
        "X_train_scaled = scaler.transform(X_train)\n",
        "X_test_scaled = scaler.transform(X_test)\n",
        "\n",
        "\n",
        "model = Sequential()\n",
        "# The first layer has 8 nodes and uses the relu activation function.\n",
        "# The line of code that adds the first Dense layer is doing 2 things,\n",
        "# defining the input or visible layer and the first hidden layer\n",
        "\n",
        "#The implicit input layer is the reason why you have to include an\n",
        "#input_dim argument only in the first (explicit) layer of the model\n",
        "#in the Sequential API - in subsequent layers, the input shape\n",
        "#is inferred from the output of the previous ones\n",
        "\n",
        "# first layer\n",
        "model.add(Dense(8, input_dim=8, activation='relu'))\n",
        "model.add(Dense(16, activation='relu'))\n",
        "model.add(Dense(32, activation='relu'))\n",
        "#model.add(Dense(64, activation='relu'))\n",
        "# output layer\n",
        "model.add(Dense(1, activation='sigmoid'))\n",
        "\n",
        "model.compile(loss='binary_crossentropy', optimizer='adam', metrics=['accuracy'])\n",
        "model.summary()\n",
        "\n",
        "# 9 (8+1)*8\n",
        "# 9 (8+1)*16\n",
        "# 17 (16+1)*32\n",
        "# 33 (32+1)*1"
      ],
      "execution_count": null,
      "outputs": [
        {
          "output_type": "stream",
          "name": "stderr",
          "text": [
            "/usr/local/lib/python3.11/dist-packages/keras/src/layers/core/dense.py:93: UserWarning: Do not pass an `input_shape`/`input_dim` argument to a layer. When using Sequential models, prefer using an `Input(shape)` object as the first layer in the model instead.\n",
            "  super().__init__(activity_regularizer=activity_regularizer, **kwargs)\n"
          ]
        },
        {
          "output_type": "display_data",
          "data": {
            "text/plain": [
              "\u001b[1mModel: \"sequential_3\"\u001b[0m\n"
            ],
            "text/html": [
              "<pre style=\"white-space:pre;overflow-x:auto;line-height:normal;font-family:Menlo,'DejaVu Sans Mono',consolas,'Courier New',monospace\"><span style=\"font-weight: bold\">Model: \"sequential_3\"</span>\n",
              "</pre>\n"
            ]
          },
          "metadata": {}
        },
        {
          "output_type": "display_data",
          "data": {
            "text/plain": [
              "┏━━━━━━━━━━━━━━━━━━━━━━━━━━━━━━━━━┳━━━━━━━━━━━━━━━━━━━━━━━━┳━━━━━━━━━━━━━━━┓\n",
              "┃\u001b[1m \u001b[0m\u001b[1mLayer (type)                   \u001b[0m\u001b[1m \u001b[0m┃\u001b[1m \u001b[0m\u001b[1mOutput Shape          \u001b[0m\u001b[1m \u001b[0m┃\u001b[1m \u001b[0m\u001b[1m      Param #\u001b[0m\u001b[1m \u001b[0m┃\n",
              "┡━━━━━━━━━━━━━━━━━━━━━━━━━━━━━━━━━╇━━━━━━━━━━━━━━━━━━━━━━━━╇━━━━━━━━━━━━━━━┩\n",
              "│ dense_12 (\u001b[38;5;33mDense\u001b[0m)                │ (\u001b[38;5;45mNone\u001b[0m, \u001b[38;5;34m8\u001b[0m)              │            \u001b[38;5;34m72\u001b[0m │\n",
              "├─────────────────────────────────┼────────────────────────┼───────────────┤\n",
              "│ dense_13 (\u001b[38;5;33mDense\u001b[0m)                │ (\u001b[38;5;45mNone\u001b[0m, \u001b[38;5;34m16\u001b[0m)             │           \u001b[38;5;34m144\u001b[0m │\n",
              "├─────────────────────────────────┼────────────────────────┼───────────────┤\n",
              "│ dense_14 (\u001b[38;5;33mDense\u001b[0m)                │ (\u001b[38;5;45mNone\u001b[0m, \u001b[38;5;34m32\u001b[0m)             │           \u001b[38;5;34m544\u001b[0m │\n",
              "├─────────────────────────────────┼────────────────────────┼───────────────┤\n",
              "│ dense_15 (\u001b[38;5;33mDense\u001b[0m)                │ (\u001b[38;5;45mNone\u001b[0m, \u001b[38;5;34m1\u001b[0m)              │            \u001b[38;5;34m33\u001b[0m │\n",
              "└─────────────────────────────────┴────────────────────────┴───────────────┘\n"
            ],
            "text/html": [
              "<pre style=\"white-space:pre;overflow-x:auto;line-height:normal;font-family:Menlo,'DejaVu Sans Mono',consolas,'Courier New',monospace\">┏━━━━━━━━━━━━━━━━━━━━━━━━━━━━━━━━━┳━━━━━━━━━━━━━━━━━━━━━━━━┳━━━━━━━━━━━━━━━┓\n",
              "┃<span style=\"font-weight: bold\"> Layer (type)                    </span>┃<span style=\"font-weight: bold\"> Output Shape           </span>┃<span style=\"font-weight: bold\">       Param # </span>┃\n",
              "┡━━━━━━━━━━━━━━━━━━━━━━━━━━━━━━━━━╇━━━━━━━━━━━━━━━━━━━━━━━━╇━━━━━━━━━━━━━━━┩\n",
              "│ dense_12 (<span style=\"color: #0087ff; text-decoration-color: #0087ff\">Dense</span>)                │ (<span style=\"color: #00d7ff; text-decoration-color: #00d7ff\">None</span>, <span style=\"color: #00af00; text-decoration-color: #00af00\">8</span>)              │            <span style=\"color: #00af00; text-decoration-color: #00af00\">72</span> │\n",
              "├─────────────────────────────────┼────────────────────────┼───────────────┤\n",
              "│ dense_13 (<span style=\"color: #0087ff; text-decoration-color: #0087ff\">Dense</span>)                │ (<span style=\"color: #00d7ff; text-decoration-color: #00d7ff\">None</span>, <span style=\"color: #00af00; text-decoration-color: #00af00\">16</span>)             │           <span style=\"color: #00af00; text-decoration-color: #00af00\">144</span> │\n",
              "├─────────────────────────────────┼────────────────────────┼───────────────┤\n",
              "│ dense_14 (<span style=\"color: #0087ff; text-decoration-color: #0087ff\">Dense</span>)                │ (<span style=\"color: #00d7ff; text-decoration-color: #00d7ff\">None</span>, <span style=\"color: #00af00; text-decoration-color: #00af00\">32</span>)             │           <span style=\"color: #00af00; text-decoration-color: #00af00\">544</span> │\n",
              "├─────────────────────────────────┼────────────────────────┼───────────────┤\n",
              "│ dense_15 (<span style=\"color: #0087ff; text-decoration-color: #0087ff\">Dense</span>)                │ (<span style=\"color: #00d7ff; text-decoration-color: #00d7ff\">None</span>, <span style=\"color: #00af00; text-decoration-color: #00af00\">1</span>)              │            <span style=\"color: #00af00; text-decoration-color: #00af00\">33</span> │\n",
              "└─────────────────────────────────┴────────────────────────┴───────────────┘\n",
              "</pre>\n"
            ]
          },
          "metadata": {}
        },
        {
          "output_type": "display_data",
          "data": {
            "text/plain": [
              "\u001b[1m Total params: \u001b[0m\u001b[38;5;34m793\u001b[0m (3.10 KB)\n"
            ],
            "text/html": [
              "<pre style=\"white-space:pre;overflow-x:auto;line-height:normal;font-family:Menlo,'DejaVu Sans Mono',consolas,'Courier New',monospace\"><span style=\"font-weight: bold\"> Total params: </span><span style=\"color: #00af00; text-decoration-color: #00af00\">793</span> (3.10 KB)\n",
              "</pre>\n"
            ]
          },
          "metadata": {}
        },
        {
          "output_type": "display_data",
          "data": {
            "text/plain": [
              "\u001b[1m Trainable params: \u001b[0m\u001b[38;5;34m793\u001b[0m (3.10 KB)\n"
            ],
            "text/html": [
              "<pre style=\"white-space:pre;overflow-x:auto;line-height:normal;font-family:Menlo,'DejaVu Sans Mono',consolas,'Courier New',monospace\"><span style=\"font-weight: bold\"> Trainable params: </span><span style=\"color: #00af00; text-decoration-color: #00af00\">793</span> (3.10 KB)\n",
              "</pre>\n"
            ]
          },
          "metadata": {}
        },
        {
          "output_type": "display_data",
          "data": {
            "text/plain": [
              "\u001b[1m Non-trainable params: \u001b[0m\u001b[38;5;34m0\u001b[0m (0.00 B)\n"
            ],
            "text/html": [
              "<pre style=\"white-space:pre;overflow-x:auto;line-height:normal;font-family:Menlo,'DejaVu Sans Mono',consolas,'Courier New',monospace\"><span style=\"font-weight: bold\"> Non-trainable params: </span><span style=\"color: #00af00; text-decoration-color: #00af00\">0</span> (0.00 B)\n",
              "</pre>\n"
            ]
          },
          "metadata": {}
        }
      ]
    },
    {
      "cell_type": "code",
      "metadata": {
        "id": "kRBPZGMGuh2R",
        "outputId": "b5b0d112-d0f5-4156-912c-49eae2c8322f",
        "colab": {
          "base_uri": "https://localhost:8080/"
        }
      },
      "source": [
        "numpy.random.seed(7)\n",
        "# verbose=0 will show you nothing (silent)\n",
        "# verbose=1 will show you an animated progress bar\n",
        "# verbose=2 will just mention the number of epochs\n",
        "\n",
        "# batch size determines how many rows should be taken at a time.\n",
        "# default is 32 etc. based on loss function\n",
        "hist=model.fit(X_train_scaled, y_train, epochs=20, verbose=1)\n",
        "# increase no of epochs and see\n",
        "\n",
        "# history attribute is a dictionary recording training loss values\n",
        "# and metrics values at successive epochs, as well as validation\n",
        "# loss values and validation metrics values (if applicable).\n",
        "print(hist.history)\n",
        "\n",
        "score = model.evaluate(X_test_scaled, y_test)\n",
        "print('Test loss:', score[0])\n",
        "print('Test accuracy:', score[1])\n",
        "\n",
        "# save model with weights if required\n",
        "model.save(\"model.h5\")\n",
        "print(\"Saved model to disk\")"
      ],
      "execution_count": null,
      "outputs": [
        {
          "output_type": "stream",
          "name": "stdout",
          "text": [
            "Epoch 1/20\n",
            "\u001b[1m18/18\u001b[0m \u001b[32m━━━━━━━━━━━━━━━━━━━━\u001b[0m\u001b[37m\u001b[0m \u001b[1m0s\u001b[0m 3ms/step - accuracy: 0.8237 - loss: 0.3733 \n",
            "Epoch 2/20\n",
            "\u001b[1m18/18\u001b[0m \u001b[32m━━━━━━━━━━━━━━━━━━━━\u001b[0m\u001b[37m\u001b[0m \u001b[1m0s\u001b[0m 3ms/step - accuracy: 0.8228 - loss: 0.3712 \n",
            "Epoch 3/20\n",
            "\u001b[1m18/18\u001b[0m \u001b[32m━━━━━━━━━━━━━━━━━━━━\u001b[0m\u001b[37m\u001b[0m \u001b[1m0s\u001b[0m 3ms/step - accuracy: 0.8218 - loss: 0.4002 \n",
            "Epoch 4/20\n",
            "\u001b[1m18/18\u001b[0m \u001b[32m━━━━━━━━━━━━━━━━━━━━\u001b[0m\u001b[37m\u001b[0m \u001b[1m0s\u001b[0m 3ms/step - accuracy: 0.8391 - loss: 0.3784 \n",
            "Epoch 5/20\n",
            "\u001b[1m18/18\u001b[0m \u001b[32m━━━━━━━━━━━━━━━━━━━━\u001b[0m\u001b[37m\u001b[0m \u001b[1m0s\u001b[0m 3ms/step - accuracy: 0.8333 - loss: 0.3892 \n",
            "Epoch 6/20\n",
            "\u001b[1m18/18\u001b[0m \u001b[32m━━━━━━━━━━━━━━━━━━━━\u001b[0m\u001b[37m\u001b[0m \u001b[1m0s\u001b[0m 3ms/step - accuracy: 0.8346 - loss: 0.3593 \n",
            "Epoch 7/20\n",
            "\u001b[1m18/18\u001b[0m \u001b[32m━━━━━━━━━━━━━━━━━━━━\u001b[0m\u001b[37m\u001b[0m \u001b[1m0s\u001b[0m 4ms/step - accuracy: 0.8257 - loss: 0.4041 \n",
            "Epoch 8/20\n",
            "\u001b[1m18/18\u001b[0m \u001b[32m━━━━━━━━━━━━━━━━━━━━\u001b[0m\u001b[37m\u001b[0m \u001b[1m0s\u001b[0m 3ms/step - accuracy: 0.8400 - loss: 0.3653 \n",
            "Epoch 9/20\n",
            "\u001b[1m18/18\u001b[0m \u001b[32m━━━━━━━━━━━━━━━━━━━━\u001b[0m\u001b[37m\u001b[0m \u001b[1m0s\u001b[0m 3ms/step - accuracy: 0.8333 - loss: 0.3658 \n",
            "Epoch 10/20\n",
            "\u001b[1m18/18\u001b[0m \u001b[32m━━━━━━━━━━━━━━━━━━━━\u001b[0m\u001b[37m\u001b[0m \u001b[1m0s\u001b[0m 3ms/step - accuracy: 0.8080 - loss: 0.3981 \n",
            "Epoch 11/20\n",
            "\u001b[1m18/18\u001b[0m \u001b[32m━━━━━━━━━━━━━━━━━━━━\u001b[0m\u001b[37m\u001b[0m \u001b[1m0s\u001b[0m 3ms/step - accuracy: 0.8473 - loss: 0.3543 \n",
            "Epoch 12/20\n",
            "\u001b[1m18/18\u001b[0m \u001b[32m━━━━━━━━━━━━━━━━━━━━\u001b[0m\u001b[37m\u001b[0m \u001b[1m0s\u001b[0m 3ms/step - accuracy: 0.8149 - loss: 0.3775 \n",
            "Epoch 13/20\n",
            "\u001b[1m18/18\u001b[0m \u001b[32m━━━━━━━━━━━━━━━━━━━━\u001b[0m\u001b[37m\u001b[0m \u001b[1m0s\u001b[0m 3ms/step - accuracy: 0.8170 - loss: 0.3702 \n",
            "Epoch 14/20\n",
            "\u001b[1m18/18\u001b[0m \u001b[32m━━━━━━━━━━━━━━━━━━━━\u001b[0m\u001b[37m\u001b[0m \u001b[1m0s\u001b[0m 3ms/step - accuracy: 0.8432 - loss: 0.3428 \n",
            "Epoch 15/20\n",
            "\u001b[1m18/18\u001b[0m \u001b[32m━━━━━━━━━━━━━━━━━━━━\u001b[0m\u001b[37m\u001b[0m \u001b[1m0s\u001b[0m 4ms/step - accuracy: 0.8178 - loss: 0.3835 \n",
            "Epoch 16/20\n",
            "\u001b[1m18/18\u001b[0m \u001b[32m━━━━━━━━━━━━━━━━━━━━\u001b[0m\u001b[37m\u001b[0m \u001b[1m0s\u001b[0m 3ms/step - accuracy: 0.8155 - loss: 0.3753 \n",
            "Epoch 17/20\n",
            "\u001b[1m18/18\u001b[0m \u001b[32m━━━━━━━━━━━━━━━━━━━━\u001b[0m\u001b[37m\u001b[0m \u001b[1m0s\u001b[0m 3ms/step - accuracy: 0.8229 - loss: 0.3825 \n",
            "Epoch 18/20\n",
            "\u001b[1m18/18\u001b[0m \u001b[32m━━━━━━━━━━━━━━━━━━━━\u001b[0m\u001b[37m\u001b[0m \u001b[1m0s\u001b[0m 4ms/step - accuracy: 0.8591 - loss: 0.3311 \n",
            "Epoch 19/20\n",
            "\u001b[1m18/18\u001b[0m \u001b[32m━━━━━━━━━━━━━━━━━━━━\u001b[0m\u001b[37m\u001b[0m \u001b[1m0s\u001b[0m 3ms/step - accuracy: 0.8201 - loss: 0.3768 \n",
            "Epoch 20/20\n",
            "\u001b[1m18/18\u001b[0m \u001b[32m━━━━━━━━━━━━━━━━━━━━\u001b[0m\u001b[37m\u001b[0m \u001b[1m0s\u001b[0m 3ms/step - accuracy: 0.8386 - loss: 0.3571 \n",
            "{'accuracy': [0.8246527910232544, 0.828125, 0.828125, 0.8194444179534912, 0.8350694179534912, 0.828125, 0.8350694179534912, 0.8263888955116272, 0.828125, 0.8315972089767456, 0.8368055820465088, 0.8315972089767456, 0.8246527910232544, 0.8263888955116272, 0.8315972089767456, 0.828125, 0.8385416865348816, 0.8263888955116272, 0.8315972089767456, 0.8333333134651184], 'loss': [0.38154491782188416, 0.37976816296577454, 0.37993746995925903, 0.3799534738063812, 0.3781965672969818, 0.3764643371105194, 0.37453019618988037, 0.37352728843688965, 0.373154878616333, 0.37266552448272705, 0.369671493768692, 0.3686797320842743, 0.3675849437713623, 0.36730557680130005, 0.3673366904258728, 0.3656924068927765, 0.3644847571849823, 0.363285094499588, 0.3623840808868408, 0.36083951592445374]}\n",
            "\u001b[1m6/6\u001b[0m \u001b[32m━━━━━━━━━━━━━━━━━━━━\u001b[0m\u001b[37m\u001b[0m \u001b[1m0s\u001b[0m 7ms/step - accuracy: 0.7584 - loss: 0.5799 \n"
          ]
        },
        {
          "output_type": "stream",
          "name": "stderr",
          "text": [
            "WARNING:absl:You are saving your model as an HDF5 file via `model.save()` or `keras.saving.save_model(model)`. This file format is considered legacy. We recommend using instead the native Keras format, e.g. `model.save('my_model.keras')` or `keras.saving.save_model(model, 'my_model.keras')`. \n"
          ]
        },
        {
          "output_type": "stream",
          "name": "stdout",
          "text": [
            "Test loss: 0.6217786073684692\n",
            "Test accuracy: 0.7604166865348816\n",
            "Saved model to disk\n"
          ]
        }
      ]
    },
    {
      "cell_type": "markdown",
      "metadata": {
        "id": "GOZLJiwg-Ve-"
      },
      "source": [
        "**Saving a model along with wieghts can save lot of time especally if it very complex**\n",
        "\n",
        "* Keras supports saving a single HDF5 file containing the model's architecture, weights values, and compile() information."
      ]
    },
    {
      "cell_type": "code",
      "metadata": {
        "id": "1fzR4g6X9wuE",
        "outputId": "0e4463e1-61e3-447d-fadf-b6537707b82f",
        "colab": {
          "base_uri": "https://localhost:8080/"
        }
      },
      "source": [
        "from keras.models import load_model\n",
        "# load model\n",
        "new_model = load_model('model.h5')\n",
        "\n",
        "score = new_model.evaluate(X_test_scaled, y_test, batch_size=40)\n",
        "print('Test loss:', score[0])\n",
        "print('Test accuracy:', score[1])\n",
        "y_pred=new_model.predict(X_test_scaled)\n",
        "print(y_pred)"
      ],
      "execution_count": null,
      "outputs": [
        {
          "output_type": "stream",
          "name": "stderr",
          "text": [
            "WARNING:absl:Compiled the loaded model, but the compiled metrics have yet to be built. `model.compile_metrics` will be empty until you train or evaluate the model.\n"
          ]
        },
        {
          "output_type": "stream",
          "name": "stdout",
          "text": [
            "\u001b[1m5/5\u001b[0m \u001b[32m━━━━━━━━━━━━━━━━━━━━\u001b[0m\u001b[37m\u001b[0m \u001b[1m0s\u001b[0m 8ms/step - accuracy: 0.7660 - loss: 0.5746  \n",
            "Test loss: 0.6217786073684692\n",
            "Test accuracy: 0.7604166865348816\n",
            "\u001b[1m6/6\u001b[0m \u001b[32m━━━━━━━━━━━━━━━━━━━━\u001b[0m\u001b[37m\u001b[0m \u001b[1m0s\u001b[0m 4ms/step \n",
            "[[5.5866335e-03]\n",
            " [8.7411636e-01]\n",
            " [7.4446654e-01]\n",
            " [2.8013387e-01]\n",
            " [1.5990198e-01]\n",
            " [4.9757075e-01]\n",
            " [3.4920041e-02]\n",
            " [1.7906094e-01]\n",
            " [9.6930867e-01]\n",
            " [8.4276959e-02]\n",
            " [8.2879376e-01]\n",
            " [2.6408564e-02]\n",
            " [8.3023310e-01]\n",
            " [8.9984369e-01]\n",
            " [9.9424466e-02]\n",
            " [1.4274243e-02]\n",
            " [6.1377257e-02]\n",
            " [7.0765270e-03]\n",
            " [1.6951475e-01]\n",
            " [1.0618456e-01]\n",
            " [4.5195410e-01]\n",
            " [1.1995606e-01]\n",
            " [7.6225907e-01]\n",
            " [8.6558890e-01]\n",
            " [2.3374143e-01]\n",
            " [3.6433954e-02]\n",
            " [1.2893145e-02]\n",
            " [5.8794975e-01]\n",
            " [1.8062256e-01]\n",
            " [8.2789308e-01]\n",
            " [4.1857332e-01]\n",
            " [5.3683227e-01]\n",
            " [7.9465389e-02]\n",
            " [3.1110114e-01]\n",
            " [1.0711613e-02]\n",
            " [3.0226392e-01]\n",
            " [5.4483157e-01]\n",
            " [1.3603146e-01]\n",
            " [6.6407841e-01]\n",
            " [6.0740638e-01]\n",
            " [5.1919937e-01]\n",
            " [9.3184447e-01]\n",
            " [5.5534095e-01]\n",
            " [1.5430962e-03]\n",
            " [8.5385732e-02]\n",
            " [5.8450803e-02]\n",
            " [4.0564838e-01]\n",
            " [2.1776311e-01]\n",
            " [1.5651521e-01]\n",
            " [7.6934296e-01]\n",
            " [1.2220236e-02]\n",
            " [1.9786585e-02]\n",
            " [5.7094973e-01]\n",
            " [2.6504674e-06]\n",
            " [6.4586586e-01]\n",
            " [2.4444957e-01]\n",
            " [9.4727911e-02]\n",
            " [3.1232763e-02]\n",
            " [5.8126134e-01]\n",
            " [5.1633739e-01]\n",
            " [1.0792477e-01]\n",
            " [6.1068141e-01]\n",
            " [6.6241354e-02]\n",
            " [2.5375089e-01]\n",
            " [7.3788166e-01]\n",
            " [7.1838260e-01]\n",
            " [3.3642304e-01]\n",
            " [3.8037115e-01]\n",
            " [9.4285470e-01]\n",
            " [8.8004130e-01]\n",
            " [9.3689841e-01]\n",
            " [8.0957264e-01]\n",
            " [5.5318620e-02]\n",
            " [5.9734493e-02]\n",
            " [3.1579930e-02]\n",
            " [3.9030766e-01]\n",
            " [1.8814733e-02]\n",
            " [5.5058401e-02]\n",
            " [5.1034288e-03]\n",
            " [4.5242462e-01]\n",
            " [4.0430177e-02]\n",
            " [3.7603584e-01]\n",
            " [1.0311099e-01]\n",
            " [8.6607365e-03]\n",
            " [2.6471096e-01]\n",
            " [1.5334159e-01]\n",
            " [9.2577714e-01]\n",
            " [5.5203232e-05]\n",
            " [5.5653876e-01]\n",
            " [3.2582220e-02]\n",
            " [6.9073880e-01]\n",
            " [1.0583591e-01]\n",
            " [7.8940296e-01]\n",
            " [4.9372745e-01]\n",
            " [2.3726882e-01]\n",
            " [4.5663601e-01]\n",
            " [9.1682947e-01]\n",
            " [1.7927310e-03]\n",
            " [4.6241039e-01]\n",
            " [7.0984948e-01]\n",
            " [6.9660997e-01]\n",
            " [2.5567595e-02]\n",
            " [2.1749583e-01]\n",
            " [3.6456534e-01]\n",
            " [3.8148869e-02]\n",
            " [3.2290223e-01]\n",
            " [5.7347372e-02]\n",
            " [8.4870771e-02]\n",
            " [6.1133897e-01]\n",
            " [8.1870222e-01]\n",
            " [2.2292737e-02]\n",
            " [8.0966109e-01]\n",
            " [5.7439605e-04]\n",
            " [5.8839250e-02]\n",
            " [9.5918983e-01]\n",
            " [5.1363212e-01]\n",
            " [1.3614296e-02]\n",
            " [2.9186001e-01]\n",
            " [5.5000842e-01]\n",
            " [6.4606917e-01]\n",
            " [2.1387668e-02]\n",
            " [4.4889007e-06]\n",
            " [1.2691130e-01]\n",
            " [3.1340290e-02]\n",
            " [5.1418366e-04]\n",
            " [9.3100226e-01]\n",
            " [6.1842189e-03]\n",
            " [4.6273679e-01]\n",
            " [3.0039376e-01]\n",
            " [1.1269516e-01]\n",
            " [2.3455271e-02]\n",
            " [9.2298573e-01]\n",
            " [1.3342403e-02]\n",
            " [2.7763298e-02]\n",
            " [6.5386993e-01]\n",
            " [9.0088779e-03]\n",
            " [1.0374409e-02]\n",
            " [5.6228185e-01]\n",
            " [5.6671798e-03]\n",
            " [9.9652076e-01]\n",
            " [6.1630782e-02]\n",
            " [4.8205024e-01]\n",
            " [7.0485868e-02]\n",
            " [6.4682442e-01]\n",
            " [1.5616740e-01]\n",
            " [3.7739259e-01]\n",
            " [5.3785437e-01]\n",
            " [2.3526628e-02]\n",
            " [9.1161442e-01]\n",
            " [3.7653461e-01]\n",
            " [5.2496452e-02]\n",
            " [3.0494136e-01]\n",
            " [1.7419180e-01]\n",
            " [9.5784524e-03]\n",
            " [2.1151525e-01]\n",
            " [7.0774718e-03]\n",
            " [7.3317516e-01]\n",
            " [6.0594890e-02]\n",
            " [5.4272056e-01]\n",
            " [1.9537085e-01]\n",
            " [1.3732049e-01]\n",
            " [1.8577859e-01]\n",
            " [1.4272198e-02]\n",
            " [2.3388139e-03]\n",
            " [8.7635946e-01]\n",
            " [3.6347479e-01]\n",
            " [3.0681807e-01]\n",
            " [2.5177708e-01]\n",
            " [1.6935752e-01]\n",
            " [9.0047610e-01]\n",
            " [6.0952090e-02]\n",
            " [7.4899846e-01]\n",
            " [4.4220686e-01]\n",
            " [1.6568792e-01]\n",
            " [2.4781206e-01]\n",
            " [1.4083259e-01]\n",
            " [8.4825629e-01]\n",
            " [4.1212258e-01]\n",
            " [5.0240505e-01]\n",
            " [2.5295386e-01]\n",
            " [7.9610866e-01]\n",
            " [1.1787146e-01]\n",
            " [4.6383087e-03]\n",
            " [7.3444769e-02]\n",
            " [2.3525938e-01]\n",
            " [3.3399317e-01]\n",
            " [2.4999145e-02]\n",
            " [6.1500217e-03]\n",
            " [1.4583008e-02]\n",
            " [7.1602374e-01]\n",
            " [7.7586508e-01]\n",
            " [7.5908387e-01]]\n"
          ]
        }
      ]
    },
    {
      "cell_type": "markdown",
      "metadata": {
        "id": "LibaYdnmZhAx"
      },
      "source": [
        "**Multi-Classification with MLP**"
      ]
    },
    {
      "cell_type": "code",
      "metadata": {
        "id": "ZrBtpUQk_UT_",
        "outputId": "1bec67af-2037-4dff-d025-b69a40f12134",
        "colab": {
          "base_uri": "https://localhost:8080/",
          "height": 1000
        }
      },
      "source": [
        "# Plot ad hoc mnist instances\n",
        "from tensorflow.keras.datasets import mnist\n",
        "import matplotlib.pyplot as plt\n",
        "# load the MNIST dataset. load only if reqired\n",
        "(X_train, y_train), (X_test, y_test) = mnist.load_data()\n",
        "\n",
        "print(X_test.shape)\n",
        "print(y_test.shape)\n",
        "\n",
        "print(X_test[1])\n",
        "print(y_test[1])\n",
        "# plot image as gray scale\n",
        "plt.imshow(X_test[1], cmap=plt.get_cmap('gray'))\n",
        "plt.show()"
      ],
      "execution_count": null,
      "outputs": [
        {
          "output_type": "stream",
          "name": "stdout",
          "text": [
            "Downloading data from https://storage.googleapis.com/tensorflow/tf-keras-datasets/mnist.npz\n",
            "11490434/11490434 [==============================] - 0s 0us/step\n",
            "(10000, 28, 28)\n",
            "(10000,)\n",
            "[[  0   0   0   0   0   0   0   0   0   0   0   0   0   0   0   0   0   0\n",
            "    0   0   0   0   0   0   0   0   0   0]\n",
            " [  0   0   0   0   0   0   0   0   0   0   0   0   0   0   0   0   0   0\n",
            "    0   0   0   0   0   0   0   0   0   0]\n",
            " [  0   0   0   0   0   0   0   0   0   0   0   0   0   0   0   0   0   0\n",
            "    0   0   0   0   0   0   0   0   0   0]\n",
            " [  0   0   0   0   0   0   0   0   0   0 116 125 171 255 255 150  93   0\n",
            "    0   0   0   0   0   0   0   0   0   0]\n",
            " [  0   0   0   0   0   0   0   0   0 169 253 253 253 253 253 253 218  30\n",
            "    0   0   0   0   0   0   0   0   0   0]\n",
            " [  0   0   0   0   0   0   0   0 169 253 253 253 213 142 176 253 253 122\n",
            "    0   0   0   0   0   0   0   0   0   0]\n",
            " [  0   0   0   0   0   0   0  52 250 253 210  32  12   0   6 206 253 140\n",
            "    0   0   0   0   0   0   0   0   0   0]\n",
            " [  0   0   0   0   0   0   0  77 251 210  25   0   0   0 122 248 253  65\n",
            "    0   0   0   0   0   0   0   0   0   0]\n",
            " [  0   0   0   0   0   0   0   0  31  18   0   0   0   0 209 253 253  65\n",
            "    0   0   0   0   0   0   0   0   0   0]\n",
            " [  0   0   0   0   0   0   0   0   0   0   0   0   0 117 247 253 198  10\n",
            "    0   0   0   0   0   0   0   0   0   0]\n",
            " [  0   0   0   0   0   0   0   0   0   0   0   0  76 247 253 231  63   0\n",
            "    0   0   0   0   0   0   0   0   0   0]\n",
            " [  0   0   0   0   0   0   0   0   0   0   0   0 128 253 253 144   0   0\n",
            "    0   0   0   0   0   0   0   0   0   0]\n",
            " [  0   0   0   0   0   0   0   0   0   0   0 176 246 253 159  12   0   0\n",
            "    0   0   0   0   0   0   0   0   0   0]\n",
            " [  0   0   0   0   0   0   0   0   0   0  25 234 253 233  35   0   0   0\n",
            "    0   0   0   0   0   0   0   0   0   0]\n",
            " [  0   0   0   0   0   0   0   0   0   0 198 253 253 141   0   0   0   0\n",
            "    0   0   0   0   0   0   0   0   0   0]\n",
            " [  0   0   0   0   0   0   0   0   0  78 248 253 189  12   0   0   0   0\n",
            "    0   0   0   0   0   0   0   0   0   0]\n",
            " [  0   0   0   0   0   0   0   0  19 200 253 253 141   0   0   0   0   0\n",
            "    0   0   0   0   0   0   0   0   0   0]\n",
            " [  0   0   0   0   0   0   0   0 134 253 253 173  12   0   0   0   0   0\n",
            "    0   0   0   0   0   0   0   0   0   0]\n",
            " [  0   0   0   0   0   0   0   0 248 253 253  25   0   0   0   0   0   0\n",
            "    0   0   0   0   0   0   0   0   0   0]\n",
            " [  0   0   0   0   0   0   0   0 248 253 253  43  20  20  20  20   5   0\n",
            "    5  20  20  37 150 150 150 147  10   0]\n",
            " [  0   0   0   0   0   0   0   0 248 253 253 253 253 253 253 253 168 143\n",
            "  166 253 253 253 253 253 253 253 123   0]\n",
            " [  0   0   0   0   0   0   0   0 174 253 253 253 253 253 253 253 253 253\n",
            "  253 253 249 247 247 169 117 117  57   0]\n",
            " [  0   0   0   0   0   0   0   0   0 118 123 123 123 166 253 253 253 155\n",
            "  123 123  41   0   0   0   0   0   0   0]\n",
            " [  0   0   0   0   0   0   0   0   0   0   0   0   0   0   0   0   0   0\n",
            "    0   0   0   0   0   0   0   0   0   0]\n",
            " [  0   0   0   0   0   0   0   0   0   0   0   0   0   0   0   0   0   0\n",
            "    0   0   0   0   0   0   0   0   0   0]\n",
            " [  0   0   0   0   0   0   0   0   0   0   0   0   0   0   0   0   0   0\n",
            "    0   0   0   0   0   0   0   0   0   0]\n",
            " [  0   0   0   0   0   0   0   0   0   0   0   0   0   0   0   0   0   0\n",
            "    0   0   0   0   0   0   0   0   0   0]\n",
            " [  0   0   0   0   0   0   0   0   0   0   0   0   0   0   0   0   0   0\n",
            "    0   0   0   0   0   0   0   0   0   0]]\n",
            "2\n"
          ]
        },
        {
          "output_type": "display_data",
          "data": {
            "text/plain": [
              "<Figure size 640x480 with 1 Axes>"
            ],
            "image/png": "[encoded data removed]"
          },
          "metadata": {}
        }
      ]
    },
    {
      "cell_type": "code",
      "metadata": {
        "id": "qlwqe_iE_UUE",
        "outputId": "90bd9776-178f-4466-86c7-dabfea3ee758",
        "colab": {
          "base_uri": "https://localhost:8080/"
        }
      },
      "source": [
        "# Baseline MLP for MNIST dataset\n",
        "import numpy\n",
        "from tensorflow.keras.models import Sequential\n",
        "from tensorflow.keras.layers import Dense\n",
        "from tensorflow.keras import utils\n",
        "\n",
        "numpy.random.seed(7)\n",
        "# load data\n",
        "(X_train, y_train), (X_test, y_test) = mnist.load_data()\n",
        "\n",
        "# flatten 28*28 images to a 784 vector for each image\n",
        "num_pixels = X_train.shape[1] * X_train.shape[2]\n",
        "X_train = X_train.reshape(X_train.shape[0], num_pixels).astype( 'float32' )\n",
        "X_test = X_test.reshape(X_test.shape[0], num_pixels).astype( 'float32' )\n",
        "\n",
        "# normalize inputs from 0-255 to 0-1\n",
        "X_train = X_train / 255\n",
        "X_test = X_test / 255\n",
        "\n",
        "# one hot encode outputs\n",
        "# Using the method to_categorical(), a numpy array (or) a vector\n",
        "# which has integers that represent different categories, can be\n",
        "# converted into a numpy array (or) a matrix which has binary values\n",
        "# and has columns equal to the number of categories in the data.\n",
        "\n",
        "y_train = utils.to_categorical(y_train)\n",
        "y_test = utils.to_categorical(y_test)\n",
        "num_classes = y_test.shape[1]\n",
        "print(y_test.shape)\n",
        "print(y_test[1])\n",
        "\n",
        "def baseline_model():\n",
        "    model = Sequential()\n",
        "    model.add(Dense(num_pixels, input_dim=num_pixels, activation= 'relu' ))\n",
        "    model.add(Dense(num_classes, activation= 'softmax' ))\n",
        "    model.compile(loss= 'categorical_crossentropy' , optimizer= 'adam' ,\n",
        "                  metrics=[ 'accuracy' ])\n",
        "    return model\n",
        "\n",
        "model = baseline_model()\n",
        "\n",
        "# change epochs to 1 and observe the accuracy\n",
        "model.fit(X_train, y_train, validation_data=(X_test, y_test), epochs=10,\n",
        "          batch_size=200,verbose=2)\n",
        "\n",
        "# Final evaluation of the model\n",
        "scores = model.evaluate(X_test, y_test, verbose=0)\n",
        "print(\"Baseline Error: %.2f%%\" % (100-scores[1]*100))"
      ],
      "execution_count": null,
      "outputs": [
        {
          "output_type": "stream",
          "name": "stdout",
          "text": [
            "(10000, 10)\n",
            "[0. 0. 1. 0. 0. 0. 0. 0. 0. 0.]\n",
            "Epoch 1/10\n",
            "300/300 - 10s - loss: 0.2802 - accuracy: 0.9209 - val_loss: 0.1396 - val_accuracy: 0.9604 - 10s/epoch - 32ms/step\n",
            "Epoch 2/10\n",
            "300/300 - 5s - loss: 0.1096 - accuracy: 0.9689 - val_loss: 0.0997 - val_accuracy: 0.9710 - 5s/epoch - 18ms/step\n",
            "Epoch 3/10\n",
            "300/300 - 5s - loss: 0.0715 - accuracy: 0.9790 - val_loss: 0.0780 - val_accuracy: 0.9759 - 5s/epoch - 18ms/step\n",
            "Epoch 4/10\n",
            "300/300 - 7s - loss: 0.0510 - accuracy: 0.9851 - val_loss: 0.0659 - val_accuracy: 0.9806 - 7s/epoch - 23ms/step\n",
            "Epoch 5/10\n",
            "300/300 - 6s - loss: 0.0368 - accuracy: 0.9894 - val_loss: 0.0671 - val_accuracy: 0.9798 - 6s/epoch - 20ms/step\n",
            "Epoch 6/10\n",
            "300/300 - 7s - loss: 0.0261 - accuracy: 0.9931 - val_loss: 0.0618 - val_accuracy: 0.9816 - 7s/epoch - 22ms/step\n",
            "Epoch 7/10\n",
            "300/300 - 5s - loss: 0.0193 - accuracy: 0.9954 - val_loss: 0.0623 - val_accuracy: 0.9809 - 5s/epoch - 17ms/step\n",
            "Epoch 8/10\n",
            "300/300 - 5s - loss: 0.0152 - accuracy: 0.9963 - val_loss: 0.0589 - val_accuracy: 0.9816 - 5s/epoch - 17ms/step\n",
            "Epoch 9/10\n",
            "300/300 - 6s - loss: 0.0114 - accuracy: 0.9976 - val_loss: 0.0603 - val_accuracy: 0.9818 - 6s/epoch - 20ms/step\n",
            "Epoch 10/10\n",
            "300/300 - 5s - loss: 0.0085 - accuracy: 0.9981 - val_loss: 0.0626 - val_accuracy: 0.9800 - 5s/epoch - 16ms/step\n",
            "Baseline Error: 2.00%\n"
          ]
        }
      ]
    },
    {
      "cell_type": "markdown",
      "metadata": {
        "id": "uFxNj0NB-OLM"
      },
      "source": [
        "\n",
        "\n",
        "---\n",
        "\n"
      ]
    },
    {
      "cell_type": "markdown",
      "metadata": {
        "id": "u61C1ANs-QaC"
      },
      "source": [
        "**Regression with MLP**"
      ]
    },
    {
      "cell_type": "code",
      "metadata": {
        "id": "1fklLr9f-UGf",
        "outputId": "defcc88a-54f4-47c4-bbad-f6347d3199ab",
        "colab": {
          "base_uri": "https://localhost:8080/"
        }
      },
      "source": [
        "from tensorflow.keras.datasets import boston_housing\n",
        "from sklearn.preprocessing import StandardScaler\n",
        "\n",
        "(X_train, y_train), (X_test, y_test) = boston_housing.load_data()\n",
        "\n",
        "scaler = StandardScaler()\n",
        "scaler.fit(X_train)\n",
        "\n",
        "X_train_scaled = scaler.transform(X_train)\n",
        "X_test_scaled = scaler.transform(X_test)\n",
        "\n",
        "print(X_train_scaled[0])"
      ],
      "execution_count": null,
      "outputs": [
        {
          "output_type": "stream",
          "name": "stdout",
          "text": [
            "Downloading data from https://storage.googleapis.com/tensorflow/tf-keras-datasets/boston_housing.npz\n",
            "\u001b[1m57026/57026\u001b[0m \u001b[32m━━━━━━━━━━━━━━━━━━━━\u001b[0m\u001b[37m\u001b[0m \u001b[1m0s\u001b[0m 0us/step\n",
            "[-0.27224633 -0.48361547 -0.43576161 -0.25683275 -0.1652266  -0.1764426\n",
            "  0.81306188  0.1166983  -0.62624905 -0.59517003  1.14850044  0.44807713\n",
            "  0.8252202 ]\n"
          ]
        }
      ]
    },
    {
      "cell_type": "code",
      "metadata": {
        "id": "59PeUmPO-yVp",
        "outputId": "5ac9c6c4-bddf-44a6-8dbe-8f9058974a73",
        "colab": {
          "base_uri": "https://localhost:8080/"
        }
      },
      "source": [
        "from tensorflow.keras import models, layers\n",
        "\n",
        "model = models.Sequential()\n",
        "\n",
        "print(X_train.shape)\n",
        "\n",
        "model.add(layers.Dense(8, activation='relu', input_shape=[X_train.shape[1]]))\n",
        "model.add(layers.Dense(16, activation='relu'))\n",
        "\n",
        "# output layer\n",
        "model.add(layers.Dense(1))\n",
        "\n",
        "model.compile(optimizer='adam', loss='mse', metrics=['r2_score'])\n",
        "\n",
        "history = model.fit(X_train_scaled, y_train, validation_split=0.2, epochs=100)"
      ],
      "execution_count": null,
      "outputs": [
        {
          "output_type": "stream",
          "name": "stdout",
          "text": [
            "(404, 13)\n",
            "Epoch 1/100\n"
          ]
        },
        {
          "output_type": "stream",
          "name": "stderr",
          "text": [
            "/usr/local/lib/python3.12/dist-packages/keras/src/layers/core/dense.py:93: UserWarning: Do not pass an `input_shape`/`input_dim` argument to a layer. When using Sequential models, prefer using an `Input(shape)` object as the first layer in the model instead.\n",
            "  super().__init__(activity_regularizer=activity_regularizer, **kwargs)\n"
          ]
        },
        {
          "output_type": "stream",
          "name": "stdout",
          "text": [
            "\u001b[1m11/11\u001b[0m \u001b[32m━━━━━━━━━━━━━━━━━━━━\u001b[0m\u001b[37m\u001b[0m \u001b[1m2s\u001b[0m 31ms/step - loss: 575.4995 - r2_score: -7.1192 - val_loss: 687.8659 - val_r2_score: -7.1384\n",
            "Epoch 2/100\n",
            "\u001b[1m11/11\u001b[0m \u001b[32m━━━━━━━━━━━━━━━━━━━━\u001b[0m\u001b[37m\u001b[0m \u001b[1m0s\u001b[0m 13ms/step - loss: 584.0800 - r2_score: -8.1809 - val_loss: 675.9809 - val_r2_score: -6.9977\n",
            "Epoch 3/100\n",
            "\u001b[1m11/11\u001b[0m \u001b[32m━━━━━━━━━━━━━━━━━━━━\u001b[0m\u001b[37m\u001b[0m \u001b[1m0s\u001b[0m 10ms/step - loss: 573.1674 - r2_score: -6.0782 - val_loss: 666.3465 - val_r2_score: -6.8838\n",
            "Epoch 4/100\n",
            "\u001b[1m11/11\u001b[0m \u001b[32m━━━━━━━━━━━━━━━━━━━━\u001b[0m\u001b[37m\u001b[0m \u001b[1m0s\u001b[0m 10ms/step - loss: 574.2892 - r2_score: -5.7111 - val_loss: 658.0084 - val_r2_score: -6.7851\n",
            "Epoch 5/100\n",
            "\u001b[1m11/11\u001b[0m \u001b[32m━━━━━━━━━━━━━━━━━━━━\u001b[0m\u001b[37m\u001b[0m \u001b[1m0s\u001b[0m 11ms/step - loss: 571.7418 - r2_score: -6.9578 - val_loss: 650.3654 - val_r2_score: -6.6947\n",
            "Epoch 6/100\n",
            "\u001b[1m11/11\u001b[0m \u001b[32m━━━━━━━━━━━━━━━━━━━━\u001b[0m\u001b[37m\u001b[0m \u001b[1m0s\u001b[0m 17ms/step - loss: 545.1168 - r2_score: -6.5563 - val_loss: 643.0659 - val_r2_score: -6.6083\n",
            "Epoch 7/100\n",
            "\u001b[1m11/11\u001b[0m \u001b[32m━━━━━━━━━━━━━━━━━━━━\u001b[0m\u001b[37m\u001b[0m \u001b[1m0s\u001b[0m 16ms/step - loss: 535.6727 - r2_score: -6.3493 - val_loss: 636.7991 - val_r2_score: -6.5342\n",
            "Epoch 8/100\n",
            "\u001b[1m11/11\u001b[0m \u001b[32m━━━━━━━━━━━━━━━━━━━━\u001b[0m\u001b[37m\u001b[0m \u001b[1m0s\u001b[0m 16ms/step - loss: 567.9212 - r2_score: -5.7675 - val_loss: 630.7053 - val_r2_score: -6.4621\n",
            "Epoch 9/100\n",
            "\u001b[1m11/11\u001b[0m \u001b[32m━━━━━━━━━━━━━━━━━━━━\u001b[0m\u001b[37m\u001b[0m \u001b[1m0s\u001b[0m 14ms/step - loss: 518.4487 - r2_score: -6.0250 - val_loss: 624.7387 - val_r2_score: -6.3915\n",
            "Epoch 10/100\n",
            "\u001b[1m11/11\u001b[0m \u001b[32m━━━━━━━━━━━━━━━━━━━━\u001b[0m\u001b[37m\u001b[0m \u001b[1m0s\u001b[0m 14ms/step - loss: 547.4056 - r2_score: -5.1301 - val_loss: 617.8873 - val_r2_score: -6.3104\n",
            "Epoch 11/100\n",
            "\u001b[1m11/11\u001b[0m \u001b[32m━━━━━━━━━━━━━━━━━━━━\u001b[0m\u001b[37m\u001b[0m \u001b[1m0s\u001b[0m 16ms/step - loss: 554.8835 - r2_score: -5.5689 - val_loss: 610.9661 - val_r2_score: -6.2285\n",
            "Epoch 12/100\n",
            "\u001b[1m11/11\u001b[0m \u001b[32m━━━━━━━━━━━━━━━━━━━━\u001b[0m\u001b[37m\u001b[0m \u001b[1m0s\u001b[0m 16ms/step - loss: 507.4437 - r2_score: -6.0107 - val_loss: 603.8215 - val_r2_score: -6.1440\n",
            "Epoch 13/100\n",
            "\u001b[1m11/11\u001b[0m \u001b[32m━━━━━━━━━━━━━━━━━━━━\u001b[0m\u001b[37m\u001b[0m \u001b[1m0s\u001b[0m 17ms/step - loss: 532.2881 - r2_score: -5.1924 - val_loss: 595.6989 - val_r2_score: -6.0479\n",
            "Epoch 14/100\n",
            "\u001b[1m11/11\u001b[0m \u001b[32m━━━━━━━━━━━━━━━━━━━━\u001b[0m\u001b[37m\u001b[0m \u001b[1m0s\u001b[0m 14ms/step - loss: 524.7050 - r2_score: -5.4355 - val_loss: 586.9443 - val_r2_score: -5.9443\n",
            "Epoch 15/100\n",
            "\u001b[1m11/11\u001b[0m \u001b[32m━━━━━━━━━━━━━━━━━━━━\u001b[0m\u001b[37m\u001b[0m \u001b[1m0s\u001b[0m 9ms/step - loss: 532.0411 - r2_score: -4.8036 - val_loss: 576.9329 - val_r2_score: -5.8259\n",
            "Epoch 16/100\n",
            "\u001b[1m11/11\u001b[0m \u001b[32m━━━━━━━━━━━━━━━━━━━━\u001b[0m\u001b[37m\u001b[0m \u001b[1m0s\u001b[0m 9ms/step - loss: 509.3058 - r2_score: -4.7716 - val_loss: 565.8332 - val_r2_score: -5.6945\n",
            "Epoch 17/100\n",
            "\u001b[1m11/11\u001b[0m \u001b[32m━━━━━━━━━━━━━━━━━━━━\u001b[0m\u001b[37m\u001b[0m \u001b[1m0s\u001b[0m 10ms/step - loss: 482.3652 - r2_score: -5.3819 - val_loss: 553.5565 - val_r2_score: -5.5493\n",
            "Epoch 18/100\n",
            "\u001b[1m11/11\u001b[0m \u001b[32m━━━━━━━━━━━━━━━━━━━━\u001b[0m\u001b[37m\u001b[0m \u001b[1m0s\u001b[0m 9ms/step - loss: 472.6248 - r2_score: -4.9727 - val_loss: 539.2288 - val_r2_score: -5.3798\n",
            "Epoch 19/100\n",
            "\u001b[1m11/11\u001b[0m \u001b[32m━━━━━━━━━━━━━━━━━━━━\u001b[0m\u001b[37m\u001b[0m \u001b[1m0s\u001b[0m 11ms/step - loss: 476.7130 - r2_score: -4.7752 - val_loss: 523.5634 - val_r2_score: -5.1944\n",
            "Epoch 20/100\n",
            "\u001b[1m11/11\u001b[0m \u001b[32m━━━━━━━━━━━━━━━━━━━━\u001b[0m\u001b[37m\u001b[0m \u001b[1m0s\u001b[0m 9ms/step - loss: 462.5923 - r2_score: -4.0658 - val_loss: 506.7663 - val_r2_score: -4.9957\n",
            "Epoch 21/100\n",
            "\u001b[1m11/11\u001b[0m \u001b[32m━━━━━━━━━━━━━━━━━━━━\u001b[0m\u001b[37m\u001b[0m \u001b[1m0s\u001b[0m 9ms/step - loss: 429.4996 - r2_score: -4.6406 - val_loss: 487.9526 - val_r2_score: -4.7731\n",
            "Epoch 22/100\n",
            "\u001b[1m11/11\u001b[0m \u001b[32m━━━━━━━━━━━━━━━━━━━━\u001b[0m\u001b[37m\u001b[0m \u001b[1m0s\u001b[0m 10ms/step - loss: 395.0754 - r2_score: -5.0744 - val_loss: 467.9316 - val_r2_score: -4.5362\n",
            "Epoch 23/100\n",
            "\u001b[1m11/11\u001b[0m \u001b[32m━━━━━━━━━━━━━━━━━━━━\u001b[0m\u001b[37m\u001b[0m \u001b[1m0s\u001b[0m 10ms/step - loss: 423.0408 - r2_score: -3.8133 - val_loss: 446.8830 - val_r2_score: -4.2872\n",
            "Epoch 24/100\n",
            "\u001b[1m11/11\u001b[0m \u001b[32m━━━━━━━━━━━━━━━━━━━━\u001b[0m\u001b[37m\u001b[0m \u001b[1m0s\u001b[0m 13ms/step - loss: 391.8409 - r2_score: -3.6973 - val_loss: 425.4160 - val_r2_score: -4.0332\n",
            "Epoch 25/100\n",
            "\u001b[1m11/11\u001b[0m \u001b[32m━━━━━━━━━━━━━━━━━━━━\u001b[0m\u001b[37m\u001b[0m \u001b[1m0s\u001b[0m 10ms/step - loss: 380.1202 - r2_score: -3.0282 - val_loss: 402.2946 - val_r2_score: -3.7597\n",
            "Epoch 26/100\n",
            "\u001b[1m11/11\u001b[0m \u001b[32m━━━━━━━━━━━━━━━━━━━━\u001b[0m\u001b[37m\u001b[0m \u001b[1m0s\u001b[0m 9ms/step - loss: 337.2316 - r2_score: -3.1059 - val_loss: 378.5172 - val_r2_score: -3.4784\n",
            "Epoch 27/100\n",
            "\u001b[1m11/11\u001b[0m \u001b[32m━━━━━━━━━━━━━━━━━━━━\u001b[0m\u001b[37m\u001b[0m \u001b[1m0s\u001b[0m 9ms/step - loss: 295.4476 - r2_score: -2.5260 - val_loss: 356.1703 - val_r2_score: -3.2140\n",
            "Epoch 28/100\n",
            "\u001b[1m11/11\u001b[0m \u001b[32m━━━━━━━━━━━━━━━━━━━━\u001b[0m\u001b[37m\u001b[0m \u001b[1m0s\u001b[0m 9ms/step - loss: 291.1570 - r2_score: -2.8032 - val_loss: 333.6371 - val_r2_score: -2.9474\n",
            "Epoch 29/100\n",
            "\u001b[1m11/11\u001b[0m \u001b[32m━━━━━━━━━━━━━━━━━━━━\u001b[0m\u001b[37m\u001b[0m \u001b[1m0s\u001b[0m 9ms/step - loss: 278.6791 - r2_score: -2.3878 - val_loss: 311.7969 - val_r2_score: -2.6890\n",
            "Epoch 30/100\n",
            "\u001b[1m11/11\u001b[0m \u001b[32m━━━━━━━━━━━━━━━━━━━━\u001b[0m\u001b[37m\u001b[0m \u001b[1m0s\u001b[0m 9ms/step - loss: 252.7548 - r2_score: -1.9204 - val_loss: 291.9014 - val_r2_score: -2.4536\n",
            "Epoch 31/100\n",
            "\u001b[1m11/11\u001b[0m \u001b[32m━━━━━━━━━━━━━━━━━━━━\u001b[0m\u001b[37m\u001b[0m \u001b[1m0s\u001b[0m 9ms/step - loss: 246.1215 - r2_score: -1.8285 - val_loss: 273.1177 - val_r2_score: -2.2313\n",
            "Epoch 32/100\n",
            "\u001b[1m11/11\u001b[0m \u001b[32m━━━━━━━━━━━━━━━━━━━━\u001b[0m\u001b[37m\u001b[0m \u001b[1m0s\u001b[0m 14ms/step - loss: 219.3623 - r2_score: -1.5751 - val_loss: 254.6583 - val_r2_score: -2.0129\n",
            "Epoch 33/100\n",
            "\u001b[1m11/11\u001b[0m \u001b[32m━━━━━━━━━━━━━━━━━━━━\u001b[0m\u001b[37m\u001b[0m \u001b[1m0s\u001b[0m 11ms/step - loss: 223.7901 - r2_score: -1.5466 - val_loss: 239.4572 - val_r2_score: -1.8331\n",
            "Epoch 34/100\n",
            "\u001b[1m11/11\u001b[0m \u001b[32m━━━━━━━━━━━━━━━━━━━━\u001b[0m\u001b[37m\u001b[0m \u001b[1m0s\u001b[0m 9ms/step - loss: 187.0620 - r2_score: -1.2918 - val_loss: 226.5335 - val_r2_score: -1.6802\n",
            "Epoch 35/100\n",
            "\u001b[1m11/11\u001b[0m \u001b[32m━━━━━━━━━━━━━━━━━━━━\u001b[0m\u001b[37m\u001b[0m \u001b[1m0s\u001b[0m 10ms/step - loss: 167.7673 - r2_score: -1.1323 - val_loss: 213.8383 - val_r2_score: -1.5300\n",
            "Epoch 36/100\n",
            "\u001b[1m11/11\u001b[0m \u001b[32m━━━━━━━━━━━━━━━━━━━━\u001b[0m\u001b[37m\u001b[0m \u001b[1m0s\u001b[0m 9ms/step - loss: 178.8768 - r2_score: -1.1193 - val_loss: 203.3680 - val_r2_score: -1.4061\n",
            "Epoch 37/100\n",
            "\u001b[1m11/11\u001b[0m \u001b[32m━━━━━━━━━━━━━━━━━━━━\u001b[0m\u001b[37m\u001b[0m \u001b[1m0s\u001b[0m 10ms/step - loss: 147.8471 - r2_score: -0.6890 - val_loss: 193.6594 - val_r2_score: -1.2912\n",
            "Epoch 38/100\n",
            "\u001b[1m11/11\u001b[0m \u001b[32m━━━━━━━━━━━━━━━━━━━━\u001b[0m\u001b[37m\u001b[0m \u001b[1m0s\u001b[0m 10ms/step - loss: 146.4446 - r2_score: -0.6235 - val_loss: 184.7106 - val_r2_score: -1.1854\n",
            "Epoch 39/100\n",
            "\u001b[1m11/11\u001b[0m \u001b[32m━━━━━━━━━━━━━━━━━━━━\u001b[0m\u001b[37m\u001b[0m \u001b[1m0s\u001b[0m 10ms/step - loss: 126.3820 - r2_score: -1.0223 - val_loss: 176.3959 - val_r2_score: -1.0870\n",
            "Epoch 40/100\n",
            "\u001b[1m11/11\u001b[0m \u001b[32m━━━━━━━━━━━━━━━━━━━━\u001b[0m\u001b[37m\u001b[0m \u001b[1m0s\u001b[0m 11ms/step - loss: 139.7759 - r2_score: -0.5111 - val_loss: 168.1447 - val_r2_score: -0.9894\n",
            "Epoch 41/100\n",
            "\u001b[1m11/11\u001b[0m \u001b[32m━━━━━━━━━━━━━━━━━━━━\u001b[0m\u001b[37m\u001b[0m \u001b[1m0s\u001b[0m 10ms/step - loss: 127.5668 - r2_score: -0.4959 - val_loss: 160.8500 - val_r2_score: -0.9031\n",
            "Epoch 42/100\n",
            "\u001b[1m11/11\u001b[0m \u001b[32m━━━━━━━━━━━━━━━━━━━━\u001b[0m\u001b[37m\u001b[0m \u001b[1m0s\u001b[0m 9ms/step - loss: 120.4406 - r2_score: -0.5300 - val_loss: 153.5386 - val_r2_score: -0.8166\n",
            "Epoch 43/100\n",
            "\u001b[1m11/11\u001b[0m \u001b[32m━━━━━━━━━━━━━━━━━━━━\u001b[0m\u001b[37m\u001b[0m \u001b[1m0s\u001b[0m 10ms/step - loss: 111.3695 - r2_score: -0.2558 - val_loss: 146.7698 - val_r2_score: -0.7365\n",
            "Epoch 44/100\n",
            "\u001b[1m11/11\u001b[0m \u001b[32m━━━━━━━━━━━━━━━━━━━━\u001b[0m\u001b[37m\u001b[0m \u001b[1m0s\u001b[0m 10ms/step - loss: 116.4096 - r2_score: -0.4258 - val_loss: 140.4266 - val_r2_score: -0.6614\n",
            "Epoch 45/100\n",
            "\u001b[1m11/11\u001b[0m \u001b[32m━━━━━━━━━━━━━━━━━━━━\u001b[0m\u001b[37m\u001b[0m \u001b[1m0s\u001b[0m 10ms/step - loss: 87.6361 - r2_score: -0.0524 - val_loss: 134.5296 - val_r2_score: -0.5917\n",
            "Epoch 46/100\n",
            "\u001b[1m11/11\u001b[0m \u001b[32m━━━━━━━━━━━━━━━━━━━━\u001b[0m\u001b[37m\u001b[0m \u001b[1m0s\u001b[0m 10ms/step - loss: 82.1697 - r2_score: -0.0165 - val_loss: 129.1140 - val_r2_score: -0.5276\n",
            "Epoch 47/100\n",
            "\u001b[1m11/11\u001b[0m \u001b[32m━━━━━━━━━━━━━━━━━━━━\u001b[0m\u001b[37m\u001b[0m \u001b[1m0s\u001b[0m 10ms/step - loss: 97.1942 - r2_score: -0.0243 - val_loss: 123.9990 - val_r2_score: -0.4671\n",
            "Epoch 48/100\n",
            "\u001b[1m11/11\u001b[0m \u001b[32m━━━━━━━━━━━━━━━━━━━━\u001b[0m\u001b[37m\u001b[0m \u001b[1m0s\u001b[0m 11ms/step - loss: 67.8604 - r2_score: -0.0186 - val_loss: 119.1832 - val_r2_score: -0.4101\n",
            "Epoch 49/100\n",
            "\u001b[1m11/11\u001b[0m \u001b[32m━━━━━━━━━━━━━━━━━━━━\u001b[0m\u001b[37m\u001b[0m \u001b[1m0s\u001b[0m 9ms/step - loss: 70.6429 - r2_score: 0.1986 - val_loss: 114.4729 - val_r2_score: -0.3544\n",
            "Epoch 50/100\n",
            "\u001b[1m11/11\u001b[0m \u001b[32m━━━━━━━━━━━━━━━━━━━━\u001b[0m\u001b[37m\u001b[0m \u001b[1m0s\u001b[0m 13ms/step - loss: 93.8281 - r2_score: 0.0304 - val_loss: 109.6578 - val_r2_score: -0.2974\n",
            "Epoch 51/100\n",
            "\u001b[1m11/11\u001b[0m \u001b[32m━━━━━━━━━━━━━━━━━━━━\u001b[0m\u001b[37m\u001b[0m \u001b[1m0s\u001b[0m 10ms/step - loss: 73.6861 - r2_score: -0.2945 - val_loss: 105.5285 - val_r2_score: -0.2485\n",
            "Epoch 52/100\n",
            "\u001b[1m11/11\u001b[0m \u001b[32m━━━━━━━━━━━━━━━━━━━━\u001b[0m\u001b[37m\u001b[0m \u001b[1m0s\u001b[0m 13ms/step - loss: 77.7164 - r2_score: 0.1217 - val_loss: 101.2915 - val_r2_score: -0.1984\n",
            "Epoch 53/100\n",
            "\u001b[1m11/11\u001b[0m \u001b[32m━━━━━━━━━━━━━━━━━━━━\u001b[0m\u001b[37m\u001b[0m \u001b[1m0s\u001b[0m 10ms/step - loss: 61.2557 - r2_score: 0.2555 - val_loss: 97.2912 - val_r2_score: -0.1511\n",
            "Epoch 54/100\n",
            "\u001b[1m11/11\u001b[0m \u001b[32m━━━━━━━━━━━━━━━━━━━━\u001b[0m\u001b[37m\u001b[0m \u001b[1m0s\u001b[0m 11ms/step - loss: 89.2234 - r2_score: -0.0290 - val_loss: 93.3271 - val_r2_score: -0.1042\n",
            "Epoch 55/100\n",
            "\u001b[1m11/11\u001b[0m \u001b[32m━━━━━━━━━━━━━━━━━━━━\u001b[0m\u001b[37m\u001b[0m \u001b[1m0s\u001b[0m 9ms/step - loss: 56.1194 - r2_score: 0.3826 - val_loss: 89.6512 - val_r2_score: -0.0607\n",
            "Epoch 56/100\n",
            "\u001b[1m11/11\u001b[0m \u001b[32m━━━━━━━━━━━━━━━━━━━━\u001b[0m\u001b[37m\u001b[0m \u001b[1m0s\u001b[0m 10ms/step - loss: 53.9463 - r2_score: 0.3400 - val_loss: 86.5312 - val_r2_score: -0.0238\n",
            "Epoch 57/100\n",
            "\u001b[1m11/11\u001b[0m \u001b[32m━━━━━━━━━━━━━━━━━━━━\u001b[0m\u001b[37m\u001b[0m \u001b[1m0s\u001b[0m 10ms/step - loss: 53.9678 - r2_score: 0.3695 - val_loss: 83.5191 - val_r2_score: 0.0119\n",
            "Epoch 58/100\n",
            "\u001b[1m11/11\u001b[0m \u001b[32m━━━━━━━━━━━━━━━━━━━━\u001b[0m\u001b[37m\u001b[0m \u001b[1m0s\u001b[0m 10ms/step - loss: 57.4025 - r2_score: 0.2746 - val_loss: 80.5943 - val_r2_score: 0.0465\n",
            "Epoch 59/100\n",
            "\u001b[1m11/11\u001b[0m \u001b[32m━━━━━━━━━━━━━━━━━━━━\u001b[0m\u001b[37m\u001b[0m \u001b[1m0s\u001b[0m 10ms/step - loss: 48.2935 - r2_score: 0.3994 - val_loss: 78.0378 - val_r2_score: 0.0767\n",
            "Epoch 60/100\n",
            "\u001b[1m11/11\u001b[0m \u001b[32m━━━━━━━━━━━━━━━━━━━━\u001b[0m\u001b[37m\u001b[0m \u001b[1m0s\u001b[0m 10ms/step - loss: 55.4097 - r2_score: 0.4133 - val_loss: 75.2724 - val_r2_score: 0.1094\n",
            "Epoch 61/100\n",
            "\u001b[1m11/11\u001b[0m \u001b[32m━━━━━━━━━━━━━━━━━━━━\u001b[0m\u001b[37m\u001b[0m \u001b[1m0s\u001b[0m 9ms/step - loss: 43.3320 - r2_score: 0.4476 - val_loss: 72.9289 - val_r2_score: 0.1372\n",
            "Epoch 62/100\n",
            "\u001b[1m11/11\u001b[0m \u001b[32m━━━━━━━━━━━━━━━━━━━━\u001b[0m\u001b[37m\u001b[0m \u001b[1m0s\u001b[0m 10ms/step - loss: 44.9744 - r2_score: 0.4428 - val_loss: 70.6502 - val_r2_score: 0.1641\n",
            "Epoch 63/100\n",
            "\u001b[1m11/11\u001b[0m \u001b[32m━━━━━━━━━━━━━━━━━━━━\u001b[0m\u001b[37m\u001b[0m \u001b[1m0s\u001b[0m 10ms/step - loss: 46.4782 - r2_score: 0.4485 - val_loss: 68.7648 - val_r2_score: 0.1864\n",
            "Epoch 64/100\n",
            "\u001b[1m11/11\u001b[0m \u001b[32m━━━━━━━━━━━━━━━━━━━━\u001b[0m\u001b[37m\u001b[0m \u001b[1m0s\u001b[0m 9ms/step - loss: 47.5539 - r2_score: 0.4088 - val_loss: 66.7072 - val_r2_score: 0.2108\n",
            "Epoch 65/100\n",
            "\u001b[1m11/11\u001b[0m \u001b[32m━━━━━━━━━━━━━━━━━━━━\u001b[0m\u001b[37m\u001b[0m \u001b[1m0s\u001b[0m 13ms/step - loss: 41.3914 - r2_score: 0.4710 - val_loss: 65.0417 - val_r2_score: 0.2305\n",
            "Epoch 66/100\n",
            "\u001b[1m11/11\u001b[0m \u001b[32m━━━━━━━━━━━━━━━━━━━━\u001b[0m\u001b[37m\u001b[0m \u001b[1m0s\u001b[0m 10ms/step - loss: 49.1146 - r2_score: 0.4477 - val_loss: 63.0656 - val_r2_score: 0.2539\n",
            "Epoch 67/100\n",
            "\u001b[1m11/11\u001b[0m \u001b[32m━━━━━━━━━━━━━━━━━━━━\u001b[0m\u001b[37m\u001b[0m \u001b[1m0s\u001b[0m 9ms/step - loss: 52.2330 - r2_score: 0.4500 - val_loss: 61.3045 - val_r2_score: 0.2747\n",
            "Epoch 68/100\n",
            "\u001b[1m11/11\u001b[0m \u001b[32m━━━━━━━━━━━━━━━━━━━━\u001b[0m\u001b[37m\u001b[0m \u001b[1m0s\u001b[0m 10ms/step - loss: 32.3666 - r2_score: 0.5705 - val_loss: 59.9579 - val_r2_score: 0.2906\n",
            "Epoch 69/100\n",
            "\u001b[1m11/11\u001b[0m \u001b[32m━━━━━━━━━━━━━━━━━━━━\u001b[0m\u001b[37m\u001b[0m \u001b[1m0s\u001b[0m 9ms/step - loss: 36.8634 - r2_score: 0.5762 - val_loss: 58.5418 - val_r2_score: 0.3074\n",
            "Epoch 70/100\n",
            "\u001b[1m11/11\u001b[0m \u001b[32m━━━━━━━━━━━━━━━━━━━━\u001b[0m\u001b[37m\u001b[0m \u001b[1m0s\u001b[0m 13ms/step - loss: 47.1481 - r2_score: 0.4906 - val_loss: 56.9892 - val_r2_score: 0.3257\n",
            "Epoch 71/100\n",
            "\u001b[1m11/11\u001b[0m \u001b[32m━━━━━━━━━━━━━━━━━━━━\u001b[0m\u001b[37m\u001b[0m \u001b[1m0s\u001b[0m 10ms/step - loss: 39.5287 - r2_score: 0.5652 - val_loss: 55.6494 - val_r2_score: 0.3416\n",
            "Epoch 72/100\n",
            "\u001b[1m11/11\u001b[0m \u001b[32m━━━━━━━━━━━━━━━━━━━━\u001b[0m\u001b[37m\u001b[0m \u001b[1m0s\u001b[0m 9ms/step - loss: 43.0277 - r2_score: 0.4980 - val_loss: 54.4624 - val_r2_score: 0.3556\n",
            "Epoch 73/100\n",
            "\u001b[1m11/11\u001b[0m \u001b[32m━━━━━━━━━━━━━━━━━━━━\u001b[0m\u001b[37m\u001b[0m \u001b[1m0s\u001b[0m 10ms/step - loss: 35.1436 - r2_score: 0.5677 - val_loss: 53.4251 - val_r2_score: 0.3679\n",
            "Epoch 74/100\n",
            "\u001b[1m11/11\u001b[0m \u001b[32m━━━━━━━━━━━━━━━━━━━━\u001b[0m\u001b[37m\u001b[0m \u001b[1m0s\u001b[0m 9ms/step - loss: 37.6197 - r2_score: 0.5933 - val_loss: 52.2561 - val_r2_score: 0.3817\n",
            "Epoch 75/100\n",
            "\u001b[1m11/11\u001b[0m \u001b[32m━━━━━━━━━━━━━━━━━━━━\u001b[0m\u001b[37m\u001b[0m \u001b[1m0s\u001b[0m 11ms/step - loss: 37.8542 - r2_score: 0.4988 - val_loss: 51.2029 - val_r2_score: 0.3942\n",
            "Epoch 76/100\n",
            "\u001b[1m11/11\u001b[0m \u001b[32m━━━━━━━━━━━━━━━━━━━━\u001b[0m\u001b[37m\u001b[0m \u001b[1m0s\u001b[0m 13ms/step - loss: 40.7344 - r2_score: 0.5001 - val_loss: 50.2979 - val_r2_score: 0.4049\n",
            "Epoch 77/100\n",
            "\u001b[1m11/11\u001b[0m \u001b[32m━━━━━━━━━━━━━━━━━━━━\u001b[0m\u001b[37m\u001b[0m \u001b[1m0s\u001b[0m 10ms/step - loss: 37.4793 - r2_score: 0.5226 - val_loss: 49.3025 - val_r2_score: 0.4167\n",
            "Epoch 78/100\n",
            "\u001b[1m11/11\u001b[0m \u001b[32m━━━━━━━━━━━━━━━━━━━━\u001b[0m\u001b[37m\u001b[0m \u001b[1m0s\u001b[0m 9ms/step - loss: 35.3076 - r2_score: 0.5803 - val_loss: 48.2806 - val_r2_score: 0.4288\n",
            "Epoch 79/100\n",
            "\u001b[1m11/11\u001b[0m \u001b[32m━━━━━━━━━━━━━━━━━━━━\u001b[0m\u001b[37m\u001b[0m \u001b[1m0s\u001b[0m 9ms/step - loss: 29.9290 - r2_score: 0.6194 - val_loss: 47.1475 - val_r2_score: 0.4422\n",
            "Epoch 80/100\n",
            "\u001b[1m11/11\u001b[0m \u001b[32m━━━━━━━━━━━━━━━━━━━━\u001b[0m\u001b[37m\u001b[0m \u001b[1m0s\u001b[0m 10ms/step - loss: 43.8925 - r2_score: 0.5034 - val_loss: 45.7893 - val_r2_score: 0.4583\n",
            "Epoch 81/100\n",
            "\u001b[1m11/11\u001b[0m \u001b[32m━━━━━━━━━━━━━━━━━━━━\u001b[0m\u001b[37m\u001b[0m \u001b[1m0s\u001b[0m 13ms/step - loss: 35.6488 - r2_score: 0.5015 - val_loss: 44.3993 - val_r2_score: 0.4747\n",
            "Epoch 82/100\n",
            "\u001b[1m11/11\u001b[0m \u001b[32m━━━━━━━━━━━━━━━━━━━━\u001b[0m\u001b[37m\u001b[0m \u001b[1m0s\u001b[0m 16ms/step - loss: 48.4345 - r2_score: 0.5081 - val_loss: 43.4181 - val_r2_score: 0.4863\n",
            "Epoch 83/100\n",
            "\u001b[1m11/11\u001b[0m \u001b[32m━━━━━━━━━━━━━━━━━━━━\u001b[0m\u001b[37m\u001b[0m \u001b[1m0s\u001b[0m 16ms/step - loss: 45.0391 - r2_score: 0.4856 - val_loss: 42.4925 - val_r2_score: 0.4973\n",
            "Epoch 84/100\n",
            "\u001b[1m11/11\u001b[0m \u001b[32m━━━━━━━━━━━━━━━━━━━━\u001b[0m\u001b[37m\u001b[0m \u001b[1m0s\u001b[0m 14ms/step - loss: 47.5250 - r2_score: 0.4644 - val_loss: 41.6882 - val_r2_score: 0.5068\n",
            "Epoch 85/100\n",
            "\u001b[1m11/11\u001b[0m \u001b[32m━━━━━━━━━━━━━━━━━━━━\u001b[0m\u001b[37m\u001b[0m \u001b[1m0s\u001b[0m 16ms/step - loss: 40.8878 - r2_score: 0.4629 - val_loss: 41.1681 - val_r2_score: 0.5129\n",
            "Epoch 86/100\n",
            "\u001b[1m11/11\u001b[0m \u001b[32m━━━━━━━━━━━━━━━━━━━━\u001b[0m\u001b[37m\u001b[0m \u001b[1m0s\u001b[0m 14ms/step - loss: 33.8849 - r2_score: 0.5494 - val_loss: 40.7559 - val_r2_score: 0.5178\n",
            "Epoch 87/100\n",
            "\u001b[1m11/11\u001b[0m \u001b[32m━━━━━━━━━━━━━━━━━━━━\u001b[0m\u001b[37m\u001b[0m \u001b[1m0s\u001b[0m 17ms/step - loss: 30.2891 - r2_score: 0.6058 - val_loss: 40.2502 - val_r2_score: 0.5238\n",
            "Epoch 88/100\n",
            "\u001b[1m11/11\u001b[0m \u001b[32m━━━━━━━━━━━━━━━━━━━━\u001b[0m\u001b[37m\u001b[0m \u001b[1m0s\u001b[0m 17ms/step - loss: 30.8878 - r2_score: 0.5986 - val_loss: 39.7922 - val_r2_score: 0.5292\n",
            "Epoch 89/100\n",
            "\u001b[1m11/11\u001b[0m \u001b[32m━━━━━━━━━━━━━━━━━━━━\u001b[0m\u001b[37m\u001b[0m \u001b[1m0s\u001b[0m 17ms/step - loss: 40.8466 - r2_score: 0.5495 - val_loss: 39.1274 - val_r2_score: 0.5371\n",
            "Epoch 90/100\n",
            "\u001b[1m11/11\u001b[0m \u001b[32m━━━━━━━━━━━━━━━━━━━━\u001b[0m\u001b[37m\u001b[0m \u001b[1m0s\u001b[0m 10ms/step - loss: 44.9707 - r2_score: 0.5419 - val_loss: 38.5377 - val_r2_score: 0.5440\n",
            "Epoch 91/100\n",
            "\u001b[1m11/11\u001b[0m \u001b[32m━━━━━━━━━━━━━━━━━━━━\u001b[0m\u001b[37m\u001b[0m \u001b[1m0s\u001b[0m 10ms/step - loss: 36.9836 - r2_score: 0.5881 - val_loss: 37.9909 - val_r2_score: 0.5505\n",
            "Epoch 92/100\n",
            "\u001b[1m11/11\u001b[0m \u001b[32m━━━━━━━━━━━━━━━━━━━━\u001b[0m\u001b[37m\u001b[0m \u001b[1m0s\u001b[0m 9ms/step - loss: 42.1034 - r2_score: 0.5830 - val_loss: 37.4375 - val_r2_score: 0.5571\n",
            "Epoch 93/100\n",
            "\u001b[1m11/11\u001b[0m \u001b[32m━━━━━━━━━━━━━━━━━━━━\u001b[0m\u001b[37m\u001b[0m \u001b[1m0s\u001b[0m 10ms/step - loss: 32.5192 - r2_score: 0.5736 - val_loss: 37.0109 - val_r2_score: 0.5621\n",
            "Epoch 94/100\n",
            "\u001b[1m11/11\u001b[0m \u001b[32m━━━━━━━━━━━━━━━━━━━━\u001b[0m\u001b[37m\u001b[0m \u001b[1m0s\u001b[0m 9ms/step - loss: 47.8329 - r2_score: 0.5225 - val_loss: 36.5003 - val_r2_score: 0.5682\n",
            "Epoch 95/100\n",
            "\u001b[1m11/11\u001b[0m \u001b[32m━━━━━━━━━━━━━━━━━━━━\u001b[0m\u001b[37m\u001b[0m \u001b[1m0s\u001b[0m 10ms/step - loss: 25.7796 - r2_score: 0.6475 - val_loss: 36.1626 - val_r2_score: 0.5721\n",
            "Epoch 96/100\n",
            "\u001b[1m11/11\u001b[0m \u001b[32m━━━━━━━━━━━━━━━━━━━━\u001b[0m\u001b[37m\u001b[0m \u001b[1m0s\u001b[0m 11ms/step - loss: 28.2775 - r2_score: 0.6687 - val_loss: 35.7870 - val_r2_score: 0.5766\n",
            "Epoch 97/100\n",
            "\u001b[1m11/11\u001b[0m \u001b[32m━━━━━━━━━━━━━━━━━━━━\u001b[0m\u001b[37m\u001b[0m \u001b[1m0s\u001b[0m 9ms/step - loss: 31.5603 - r2_score: 0.6741 - val_loss: 35.5425 - val_r2_score: 0.5795\n",
            "Epoch 98/100\n",
            "\u001b[1m11/11\u001b[0m \u001b[32m━━━━━━━━━━━━━━━━━━━━\u001b[0m\u001b[37m\u001b[0m \u001b[1m0s\u001b[0m 10ms/step - loss: 34.0715 - r2_score: 0.6310 - val_loss: 35.1094 - val_r2_score: 0.5846\n",
            "Epoch 99/100\n",
            "\u001b[1m11/11\u001b[0m \u001b[32m━━━━━━━━━━━━━━━━━━━━\u001b[0m\u001b[37m\u001b[0m \u001b[1m0s\u001b[0m 10ms/step - loss: 26.2303 - r2_score: 0.6735 - val_loss: 34.6529 - val_r2_score: 0.5900\n",
            "Epoch 100/100\n",
            "\u001b[1m11/11\u001b[0m \u001b[32m━━━━━━━━━━━━━━━━━━━━\u001b[0m\u001b[37m\u001b[0m \u001b[1m0s\u001b[0m 10ms/step - loss: 32.5271 - r2_score: 0.6009 - val_loss: 34.1535 - val_r2_score: 0.5959\n"
          ]
        }
      ]
    },
    {
      "cell_type": "code",
      "metadata": {
        "id": "wGYPKelw_YrG",
        "outputId": "3f94a962-0b70-4ccb-f2f5-02126229141c",
        "colab": {
          "base_uri": "https://localhost:8080/"
        }
      },
      "source": [
        "# The output values represent the loss (Mean Squarred Error) and\n",
        "# the metrics (Mean Absolute Error)\n",
        "model.evaluate(X_test_scaled, y_test)"
      ],
      "execution_count": null,
      "outputs": [
        {
          "output_type": "stream",
          "name": "stdout",
          "text": [
            "\u001b[1m4/4\u001b[0m \u001b[32m━━━━━━━━━━━━━━━━━━━━\u001b[0m\u001b[37m\u001b[0m \u001b[1m0s\u001b[0m 9ms/step - loss: 24.5737 - mae: 3.7973 \n"
          ]
        },
        {
          "output_type": "execute_result",
          "data": {
            "text/plain": [
              "[27.19695281982422, 3.9428930282592773]"
            ]
          },
          "metadata": {},
          "execution_count": 3
        }
      ]
    },
    {
      "cell_type": "code",
      "metadata": {
        "id": "jMTQi9Cm_qTf",
        "outputId": "58b04a34-38db-4ef4-d1cc-3bdeba6d21af",
        "colab": {
          "base_uri": "https://localhost:8080/"
        }
      },
      "source": [
        "# we get a sample data (the first 2 inputs from the training data)\n",
        "to_predict = X_train_scaled[:2]\n",
        "\n",
        "predictions = model.predict(to_predict)\n",
        "print(predictions)\n",
        "print(y_train[:2])"
      ],
      "execution_count": null,
      "outputs": [
        {
          "output_type": "stream",
          "name": "stdout",
          "text": [
            "\u001b[1m1/1\u001b[0m \u001b[32m━━━━━━━━━━━━━━━━━━━━\u001b[0m\u001b[37m\u001b[0m \u001b[1m0s\u001b[0m 71ms/step\n",
            "[[14.869809]\n",
            " [40.234085]]\n",
            "[15.2 42.3]\n"
          ]
        }
      ]
    },
    {
      "cell_type": "markdown",
      "metadata": {
        "id": "7e9J3eOdUhJa"
      },
      "source": [
        "**Gradient Descent**\n",
        "\n",
        "* Most of the data science algorithms are optimization problems and one of the most used algorithms to do the same is the Gradient Descent Algorithm.\n",
        "\n",
        "* The **learning rate** is a tuning parameter in an optimization algorithm like Gradient descent that determines the step size at each iteration while moving toward a minimum\n",
        "\n",
        "* The learning rate determines how big a step is taken in that direction. A too high learning rate will make the learning jump over minima but a too low learning rate will either take too long to converge or get stuck in an undesirable local minimum.\n",
        "\n",
        "* **Learning rate Momentum** both speeds up the learning (increasing the learning rate) when the error cost gradient is heading in the same direction for a long time and also avoids local minima by 'rolling over' small bumps.\n",
        "\n",
        "* **Learning rate Decay** serves to settle the learning in a nice place and avoid oscillations, a situation that may arise when a too high constant learning rate makes the learning jump back and forth over a minima\n"
      ]
    },
    {
      "cell_type": "markdown",
      "metadata": {
        "id": "KTqXOyxj0yki"
      },
      "source": [
        "\n",
        "\n",
        "---\n",
        "\n"
      ]
    },
    {
      "cell_type": "markdown",
      "metadata": {
        "id": "MVnh7hlj-Sh-"
      },
      "source": [
        "**Optimizer functions**\n",
        "\n",
        "* Optimizers are algorithms or methods used to change the attributes of your neural network such as weights and learning rate in order to reduce the losses.\n",
        "\n",
        "* Gradient descent, Stochastic Gradient descent, Mini-Batch Gradient descent\n",
        "\n",
        "* Adaptive gradient descent algorithms such as Adagrad, RMSprop, Adam, provide an alternative to classical SGD. They have per-parameter learning rate methods.\n"
      ]
    },
    {
      "cell_type": "markdown",
      "metadata": {
        "id": "Qb0tmnMZaXtv"
      },
      "source": [
        "\n",
        "---\n"
      ]
    },
    {
      "cell_type": "markdown",
      "metadata": {
        "id": "Ci4YIj_SZtpZ"
      },
      "source": [
        "* **Gradient Descent** calcultes gradient for the whole dataset and updates values in direction opposite to the gradients until we find a local minima.\n",
        "\n",
        "* In **Gradient Descent or Batch Gradient Descent**, we use the whole training data per epoch whereas, in **Stochastic Gradient Descent**, we use only single training example per epoch randomly (hence it fast) and **Mini-batch Gradient Descent** lies in between of these two extremes, in which we can use a mini-batch(small portion) of training data per epoch\n",
        "\n",
        "* Gradient descent is very basic and is seldom used now. One problem is with the global learning rate associated with the same.\n",
        "\n",
        "* **Adagrad** is more preferrable for a sparse data set as it makes big updates for infrequent parameters and small updates for frequent parameters. It uses a different learning rate for every parameter. Thus we do not need to manually tune the learning rate.\n",
        "\n",
        "* **RMSprop** and **Adadelta** have both been developed independently around the same time stemming from the need to resolve Adagrad's radically diminishing learning rates.\n",
        "\n",
        "* Adaptive Moment Estimation (**Adam**) is another method that computes adaptive learning rates for each parameter.\n",
        "\n",
        "* In addition to storing an exponentially decaying average of past squared gradients like Adadelta and RMSprop, Adam also keeps an exponentially decaying average of past gradients.\n",
        "\n",
        "* Adam works well in practice, is faster, and outperforms other techniques.\n",
        "\n",
        "* Pick the optimizer that is newest because they usually report results on standard datasets, or best state of the art, or both.\n",
        "\n",
        "https://towardsdatascience.com/optimizers-for-training-neural-network-59450d71caf6"
      ]
    },
    {
      "cell_type": "markdown",
      "metadata": {
        "id": "KoM4AfXwRp-b"
      },
      "source": [
        "\n",
        "\n",
        "---\n",
        "\n"
      ]
    },
    {
      "cell_type": "markdown",
      "metadata": {
        "id": "kLOjLtgCRrFu"
      },
      "source": [
        "**Hyperparameters**\n",
        "\n",
        "* Hyperparameters are parameters your neural network can’t learn itself via gradient descent or some other variant.\n",
        "\n",
        "* These include learning rate, number of layers, number of neurons in a given layer, dropout, Network Weight Initialization, Activation function, Momentum, Number of epochs, Batch size etc.\n",
        "\n",
        "* Tuning the hyperparameters refers to the process of choosing the best values of the hyperparameters.\n",
        "\n",
        "* Typically you evaluate the performance of the network on a validation set, and then tweak the hyperparameters and re-evaluate, choosing the values of the hyperparameters that give the best performance on the validation set."
      ]
    },
    {
      "cell_type": "markdown",
      "metadata": {
        "id": "K_GjvqbYeNb2"
      },
      "source": [
        "\n",
        "\n",
        "---\n",
        "\n"
      ]
    },
    {
      "cell_type": "markdown",
      "metadata": {
        "id": "SPeqB7AHfWwR"
      },
      "source": [
        "**How to Avoid Overfitting in Deep Learning Neural Networks**\n",
        "\n",
        "* The central challenge in machine learning is that we must perform well on new, previously unseen inputs — not just those on which our model was trained. The ability to perform well on previously unobserved inputs is called generalization.\n",
        "\n",
        "* We use methods like a train/test split or k-fold cross-validation to estimate the ability of the model to generalize to new data.\n",
        "\n",
        "* We can address **underfitting** by increasing the capacity of the model. Capacity refers to the ability of a model to fit a variety of functions; more capacity, means that a model can fit more types of functions for mapping inputs to outputs.\n",
        "\n",
        "* Increasing the capacity of a model is easily achieved by changing the structure of the model, such as adding more layers and/or more nodes to layers.\n",
        "\n",
        "* Because an underfit model is so easily addressed, it is more common to have an overfit model.\n",
        "\n",
        "* In case of **Overfitting**, line plots of the loss (that we seek to minimize) of the model on train and validation datasets will show a line for the training dataset that drops and may plateau and a line for the validation dataset that drops at first, then at some point begins to rise again.\n",
        "\n",
        "Overfitting can be addressed by various means like....\n",
        "\n",
        "* Constraining Model Complexity like no of  number of weights, magnitude of weights etc.\n",
        "\n",
        "* **Dropout**: Probabilistically remove inputs during training\n",
        "\n",
        "* **Early Stopping**: Monitor model performance on a validation set and stop training when performance degrades."
      ]
    }
  ]
}